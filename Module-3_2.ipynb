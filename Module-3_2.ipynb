{
 "cells": [
  {
   "cell_type": "code",
   "execution_count": 1,
   "id": "f3ef7009-c67a-43c5-9b74-a9d72d1c03b5",
   "metadata": {
    "tags": []
   },
   "outputs": [
    {
     "name": "stdout",
     "output_type": "stream",
     "text": [
      "2025-07-20 19:41:39,142 INFO client.DefaultNoHARMFailoverProxyProvider: Connecting to ResourceManager at cluster-3609-m.us-central1-c.c.fluid-shadow-459720-q0.internal./10.128.0.12:8032\n",
      "2025-07-20 19:41:39,618 INFO client.AHSProxy: Connecting to Application History server at cluster-3609-m.us-central1-c.c.fluid-shadow-459720-q0.internal./10.128.0.12:10200\n",
      "Total number of applications (application-types: [], states: [SUBMITTED, ACCEPTED, RUNNING] and tags: []):1\n",
      "                Application-Id\t    Application-Name\t    Application-Type\t      User\t     Queue\t             State\t       Final-State\t       Progress\t                       Tracking-URL\n",
      "application_1753034603172_0005\t        PySparkShell\t               SPARK\t      root\t   default\t           RUNNING\t         UNDEFINED\t            10%\thttp://cluster-3609-m.us-central1-c.c.fluid-shadow-459720-q0.internal:44969\n"
     ]
    }
   ],
   "source": [
    "!yarn application -list"
   ]
  },
  {
   "cell_type": "code",
   "execution_count": 2,
   "id": "2d88b0dc-9e52-4a32-bc14-17f4c0664fcc",
   "metadata": {
    "tags": []
   },
   "outputs": [],
   "source": [
    "#yarn application -kill application_1753034603172_0003"
   ]
  },
  {
   "cell_type": "code",
   "execution_count": 3,
   "id": "2ec3d470-a3ca-4583-b852-20ec0c08f153",
   "metadata": {},
   "outputs": [],
   "source": [
    "from pyspark.sql import SparkSession\n",
    "from pyspark.sql.functions import *\n",
    "from pyspark.sql.types import *\n",
    "from pyspark.sql import Window"
   ]
  },
  {
   "cell_type": "code",
   "execution_count": 4,
   "id": "90ebdaff-ac91-4b83-a015-8bfad7a4a789",
   "metadata": {},
   "outputs": [],
   "source": [
    "# 🔧 SOLUTION 1: Check if Spark session exists, create if needed\n",
    "def get_spark_session():\n",
    "    try:\n",
    "        # Try to get existing active session\n",
    "        spark = SparkSession.getActiveSession()\n",
    "        if spark is None:\n",
    "            # Create new session if none exists\n",
    "            spark = SparkSession.builder \\\n",
    "                .appName(\"Module-3\") \\\n",
    "                .config(\"spark.jars.packages\", \"com.google.cloud.spark:spark-bigquery-with-dependencies_2.12:0.23.2\") \\\n",
    "                .getOrCreate()\n",
    "        return spark\n",
    "    except:\n",
    "        # If anything goes wrong, create fresh session\n",
    "        spark = SparkSession.builder \\\n",
    "            .appName(\"Module-3\") \\\n",
    "            .config(\"spark.jars.packages\", \"com.google.cloud.spark:spark-bigquery-with-dependencies_2.12:0.23.2\") \\\n",
    "            .getOrCreate()\n",
    "        return spark"
   ]
  },
  {
   "cell_type": "code",
   "execution_count": 5,
   "id": "b82e504b-827f-4bf1-95a4-f1843e0501cc",
   "metadata": {},
   "outputs": [],
   "source": [
    "# Get or create Spark session\n",
    "spark = get_spark_session()"
   ]
  },
  {
   "cell_type": "code",
   "execution_count": 6,
   "id": "8a56497a-e51e-4b95-a240-f0aa485061c0",
   "metadata": {},
   "outputs": [
    {
     "name": "stdout",
     "output_type": "stream",
     "text": [
      "✅ Spark Session Status:\n",
      "   App Name: PySparkShell\n",
      "   Master: yarn\n",
      "   Spark Version: 3.5.3\n",
      "   Active: True\n"
     ]
    }
   ],
   "source": [
    "print(\"✅ Spark Session Status:\")\n",
    "print(f\"   App Name: {spark.sparkContext.appName}\")\n",
    "print(f\"   Master: {spark.sparkContext.master}\")\n",
    "print(f\"   Spark Version: {spark.version}\")\n",
    "print(f\"   Active: {not spark.sparkContext._jsc.sc().isStopped()}\")"
   ]
  },
  {
   "cell_type": "code",
   "execution_count": 7,
   "id": "b0aeff20-d12c-4f6c-9e7d-76723995e01c",
   "metadata": {},
   "outputs": [],
   "source": [
    "# Define the base GCS bucket path\n",
    "gcs_bucket_path = \"gs://retail-order-data-bucket/output/\""
   ]
  },
  {
   "cell_type": "code",
   "execution_count": 8,
   "id": "94bb82b0-b0cf-44b3-8864-a8b6f15b2fcc",
   "metadata": {},
   "outputs": [
    {
     "name": "stderr",
     "output_type": "stream",
     "text": [
      "                                                                                \r"
     ]
    }
   ],
   "source": [
    "# Read each Parquet file into a DataFrame\n",
    "# Customers DataFrame\n",
    "customers_df = spark.read.parquet(f\"{gcs_bucket_path}customers_clean_df.parquet\")\n",
    "# Geolocation DataFrame\n",
    "geolocation_df = spark.read.parquet(f\"{gcs_bucket_path}geolocation_clean_df.parquet/\")\n",
    "# Order Items DataFrame\n",
    "order_items_df = spark.read.parquet(f\"{gcs_bucket_path}order_items_clean_df.parquet/\")\n",
    "# Order Payments DataFrame\n",
    "order_payments_df = spark.read.parquet(f\"{gcs_bucket_path}order_payments_clean_df.parquet/\")\n",
    "# Orders DataFrame\n",
    "orders_df = spark.read.parquet(f\"{gcs_bucket_path}orders_clean_df.parquet/\")\n",
    "# Sellers DataFrame\n",
    "sellers_df = spark.read.parquet(f\"{gcs_bucket_path}sellers_clean_df.parquet/\")\n",
    "# Order Reviews DataFrame\n",
    "order_reviews_df = spark.read.parquet(f\"{gcs_bucket_path}orders_reviews_clean_df.parquet/\")\n",
    "# Products DataFrame\n",
    "products_df = spark.read.parquet(f\"{gcs_bucket_path}products_clean_df.parquet/\")"
   ]
  },
  {
   "cell_type": "markdown",
   "id": "45754bcb-da97-44de-a5f9-54473b71da44",
   "metadata": {},
   "source": [
    "## 🚀 ADVANCED WINDOW FUNCTIONS"
   ]
  },
  {
   "cell_type": "markdown",
   "id": "3778b668-261a-40be-9f0e-7f8b4ab985c4",
   "metadata": {},
   "source": [
    "### 7. Ranking & Percentiles"
   ]
  },
  {
   "cell_type": "code",
   "execution_count": 9,
   "id": "69d5524e-18a3-411c-bd7e-fce0a6d68f0c",
   "metadata": {
    "tags": []
   },
   "outputs": [
    {
     "name": "stderr",
     "output_type": "stream",
     "text": [
      "                                                                                \r"
     ]
    },
    {
     "name": "stdout",
     "output_type": "stream",
     "text": [
      "+--------------------+--------------+-------+-------+\n",
      "|         customer_id|customer_state|    tot|ranking|\n",
      "+--------------------+--------------+-------+-------+\n",
      "|25dcca1d4dd5e5ae8...|            AM|1853.75|      1|\n",
      "|3a486addcf71802e8...|            AM|1384.74|      2|\n",
      "|19faaa8953bbd5166...|            AM|1259.04|      3|\n",
      "|75356ef9427992199...|            AM| 725.69|      4|\n",
      "|af0e505d980484f4c...|            AM| 638.66|      5|\n",
      "|7afffca41e83ce5da...|            AM| 637.09|      6|\n",
      "|1434c23ad06a9986f...|            AM| 628.18|      7|\n",
      "|53e9e25ac4476a44a...|            AM| 604.76|      8|\n",
      "|f21af0b30cca19e2f...|            AM| 592.49|      9|\n",
      "|b9374bfb8d4215e1f...|            AM| 545.08|     10|\n",
      "|b67cda5c14480b995...|            AM| 517.20|     11|\n",
      "|389efb68674e38efb...|            AM| 488.16|     12|\n",
      "|9eec05db89d3d8863...|            AM| 447.09|     13|\n",
      "|b482b6eb1e1daa52f...|            AM| 420.13|     14|\n",
      "|6b170d60eabcac609...|            AM| 371.19|     15|\n",
      "|2009e285643a9f9aa...|            AM| 370.29|     16|\n",
      "|19dc2be7592f399eb...|            AM| 334.01|     17|\n",
      "|3db8f291923971467...|            AM| 325.47|     18|\n",
      "|4104c2e389807d251...|            AM| 313.40|     19|\n",
      "|7678332c9841a0503...|            AM| 298.67|     20|\n",
      "+--------------------+--------------+-------+-------+\n",
      "only showing top 20 rows\n",
      "\n"
     ]
    }
   ],
   "source": [
    "#Q7.1: Rank customers by their total spending within each state\n",
    "co = customers_df.join(orders_df,\"customer_id\",\"inner\")\n",
    "oi = co.join(order_items_df,\"order_id\",\"inner\")\n",
    "\n",
    "x = oi.groupBy(\"customer_id\",\"customer_state\").agg(sum(\"total_value\").alias(\"tot\"))\n",
    "\n",
    "window_spec = Window.partitionBy(\"customer_state\").orderBy(col(\"tot\").desc())\n",
    "cos = x.withColumn(\"ranking\",rank().over(window_spec))\n",
    "\n",
    "cos.show()\n",
    "\n"
   ]
  },
  {
   "cell_type": "code",
   "execution_count": 11,
   "id": "78036a65-01a8-4567-a3a6-378b5760e3ff",
   "metadata": {
    "tags": []
   },
   "outputs": [
    {
     "name": "stderr",
     "output_type": "stream",
     "text": [
      "[Stage 19:=============================>                            (1 + 1) / 2]\r"
     ]
    },
    {
     "name": "stdout",
     "output_type": "stream",
     "text": [
      "+--------------------+---------------------+--------+-------+\n",
      "|          product_id|product_category_name|     tot|ranking|\n",
      "+--------------------+---------------------+--------+-------+\n",
      "|5a848e4ab52fd5445...|                 NULL|27286.05|      1|\n",
      "|eed5cbd74fac3bd79...|                 NULL|10223.82|      2|\n",
      "|b1d207586fca400a2...|                 NULL| 7689.86|      3|\n",
      "|11250b0d4b709fee9...| agro industria e ...| 9710.48|      1|\n",
      "|423a6644f0aa529e8...| agro industria e ...| 8609.73|      2|\n",
      "|672e757f331900b9d...| agro industria e ...| 7355.34|      3|\n",
      "|73326828aa5efe1ba...|            alimentos| 5092.34|      1|\n",
      "|89321f94e35fc6d79...|            alimentos| 4883.44|      2|\n",
      "|ed2067a9c1f795530...|            alimentos| 4027.24|      3|\n",
      "|992197904e1d4f0bf...|    alimentos bebidas| 2859.77|      1|\n",
      "|90f97298579cd2041...|    alimentos bebidas| 1605.26|      2|\n",
      "|84f5c4f480ad6c999...|    alimentos bebidas| 1400.43|      3|\n",
      "|4fe644d766c7566db...|                artes|12852.22|      1|\n",
      "|1bdf5e6731585cf01...|                artes| 6726.66|      2|\n",
      "|cbf96c04205dc933b...|                artes|  560.36|      3|\n",
      "|b9976e9c22fb1540b...|   artes e artesanato|  721.82|      1|\n",
      "|6bb18295cc019bf3b...|   artes e artesanato|  314.32|      2|\n",
      "|43506d2b6b5e05350...|   artes e artesanato|  306.72|      3|\n",
      "|99b4596b82b6f75d4...|    artigos de festas|  824.07|      1|\n",
      "|833fb04f7b1c82365...|    artigos de festas|  602.58|      2|\n",
      "+--------------------+---------------------+--------+-------+\n",
      "only showing top 20 rows\n",
      "\n"
     ]
    },
    {
     "name": "stderr",
     "output_type": "stream",
     "text": [
      "                                                                                \r"
     ]
    }
   ],
   "source": [
    "#Q7.2: Find the top 3 products by revenue in each category\n",
    "poi = products_df.join(order_items_df,\"product_id\",\"inner\")\n",
    "y = poi.groupBy(\"product_id\",\"product_category_name\").agg(sum(\"total_value\").alias(\"tot\"))\n",
    "window_spec = Window.partitionBy(\"product_category_name\").orderBy(col(\"tot\").desc())\n",
    "\n",
    "p = y.withColumn(\"ranking\",rank().over(window_spec))\n",
    "# Filter for the top 3 products in each category\n",
    "top_3_products_by_category = p.filter(col(\"ranking\") <= 3)\n",
    "\n",
    "# Show the result\n",
    "top_3_products_by_category.show()"
   ]
  },
  {
   "cell_type": "code",
   "execution_count": 12,
   "id": "63d5f6de-369f-41ab-b043-c182fedd777b",
   "metadata": {
    "tags": []
   },
   "outputs": [
    {
     "name": "stderr",
     "output_type": "stream",
     "text": [
      "[Stage 26:=============================>                            (1 + 1) / 2]\r"
     ]
    },
    {
     "name": "stdout",
     "output_type": "stream",
     "text": [
      "+-----------+---------------+---------------+---------------+\n",
      "|order_month|p25_order_value|p50_order_value|p75_order_value|\n",
      "+-----------+---------------+---------------+---------------+\n",
      "|          1|          60.59|         104.87|         175.32|\n",
      "|          2|          58.62|         102.96|         170.43|\n",
      "|          3|          60.79|         105.50|         179.04|\n",
      "|          4|          62.77|         108.21|         184.27|\n",
      "|          5|          63.13|         106.30|         176.83|\n",
      "|          6|          62.22|         107.44|         176.12|\n",
      "|          7|          62.31|         105.32|         177.24|\n",
      "|          8|          61.29|         100.44|         171.77|\n",
      "|          9|          64.11|         104.37|         181.78|\n",
      "|         10|          63.11|         106.30|         181.55|\n",
      "|         11|          61.77|         103.55|         175.56|\n",
      "|         12|          63.73|         106.17|         176.38|\n",
      "+-----------+---------------+---------------+---------------+\n",
      "\n"
     ]
    },
    {
     "name": "stderr",
     "output_type": "stream",
     "text": [
      "                                                                                \r"
     ]
    }
   ],
   "source": [
    "# Q7.3: Calculate the 25th, 50th, and 75th percentile of order values by month\n",
    "oi = orders_df.join(order_items_df,\"order_id\",\"inner\")\n",
    "ov = oi.groupBy(\"order_id\", month(\"order_purchase_timestamp\").alias(\"order_month\")).agg(\n",
    "    sum(\"total_value\").alias(\"total_order_value\")\n",
    ")\n",
    "\n",
    "# Define the window specification, partitioning by order_month\n",
    "window_spec_month = Window.partitionBy(\"order_month\")\n",
    "\n",
    "z = ov.groupBy(\"order_month\").agg(\n",
    "    percentile_approx(col(\"total_order_value\"), lit(0.25), 1000).alias(\"p25_order_value\"),\n",
    "    percentile_approx(col(\"total_order_value\"), lit(0.50), 1000).alias(\"p50_order_value\"), # Median\n",
    "    percentile_approx(col(\"total_order_value\"), lit(0.75), 1000).alias(\"p75_order_value\")\n",
    ").orderBy(\"order_month\")\n",
    "\n",
    "z.show()\n",
    "\n"
   ]
  },
  {
   "cell_type": "code",
   "execution_count": 18,
   "id": "2fc785cb-9548-4ac1-8853-be6108d93b3b",
   "metadata": {},
   "outputs": [],
   "source": [
    "#--- 1. Pre-process Geolocation Data ---\n",
    "# Average lat/lng for each zip code prefix to get a unique coordinate set.\n",
    "avg_geolocation_df = geolocation_df.groupBy(\"geolocation_zip_code_prefix\").agg(\n",
    "    avg(\"geolocation_lat\").alias(\"avg_lat\"),\n",
    "    avg(\"geolocation_lng\").alias(\"avg_lng\")\n",
    ")\n",
    "\n",
    "# --- 2. Join Core Order, Customer, Payment, and Review Data using INNER JOIN ---\n",
    "# Only orders with matches in all these core tables will be kept.\n",
    "combined_df = orders_df.alias(\"o\") \\\n",
    "    .join(customers_df.alias(\"c\"), col(\"o.customer_id\") == col(\"c.customer_id\"), \"inner\") \\\n",
    "    .join(order_payments_df.alias(\"op\"), col(\"o.order_id\") == col(\"op.order_id\"), \"inner\") \\\n",
    "    .join(order_reviews_df.alias(\"orv\"), col(\"o.order_id\") == col(\"orv.order_id\"), \"inner\")\n",
    "\n",
    "# --- 3. Join Order Items, Products, and Sellers Data using INNER JOIN ---\n",
    "# Only records with matches in these will be kept.\n",
    "combined_df = combined_df \\\n",
    "    .join(order_items_df.alias(\"oi\"), col(\"o.order_id\") == col(\"oi.order_id\"), \"inner\") \\\n",
    "    .join(products_df.alias(\"p\"), col(\"oi.product_id\") == col(\"p.product_id\"), \"inner\") \\\n",
    "    .join(sellers_df.alias(\"s\"), col(\"oi.seller_id\") == col(\"s.seller_id\"), \"inner\")\n",
    "\n",
    "# --- 4. Join Geolocation Data for Customers using INNER JOIN ---\n",
    "# Only records where customer zip code has a geolocation match will be kept.\n",
    "combined_df = combined_df.join(\n",
    "    avg_geolocation_df.alias(\"geo_cust\"),\n",
    "    col(\"c.customer_zip_code_prefix\") == col(\"geo_cust.geolocation_zip_code_prefix\"),\n",
    "    \"inner\"\n",
    ").withColumnRenamed(\"avg_lat\", \"customer_lat\") \\\n",
    " .withColumnRenamed(\"avg_lng\", \"customer_lng\")\n",
    "\n",
    "# --- 5. Join Geolocation Data for Sellers using INNER JOIN ---\n",
    "# Only records where seller zip code has a geolocation match will be kept.\n",
    "combined_df = combined_df.join(\n",
    "    avg_geolocation_df.alias(\"geo_seller\"),\n",
    "    col(\"s.seller_zip_code_prefix\") == col(\"geo_seller.geolocation_zip_code_prefix\"),\n",
    "    \"inner\"\n",
    ").withColumnRenamed(\"avg_lat\", \"seller_lat\") \\\n",
    " .withColumnRenamed(\"avg_lng\", \"seller_lng\")\n",
    "\n",
    "# --- 6. Select and Rename Columns for Final Output ---\n",
    "# This step is crucial to avoid duplicate column names and make the schema clean\n",
    "final_combined_df = combined_df.select(\n",
    "    # Order Details\n",
    "    col(\"o.order_id\"),\n",
    "    col(\"o.order_status\"),\n",
    "    col(\"o.order_purchase_timestamp\"),\n",
    "    col(\"o.order_approved_at\"),\n",
    "    col(\"o.order_delivered_carrier_date\"),\n",
    "    col(\"o.order_delivered_customer_date\"),\n",
    "    col(\"o.order_estimated_delivery_date\"),\n",
    "\n",
    "    # Customer Details\n",
    "    col(\"c.customer_id\"),\n",
    "    col(\"c.customer_unique_id\"),\n",
    "    col(\"c.customer_zip_code_prefix\"),\n",
    "    col(\"c.customer_city\"),\n",
    "    col(\"c.customer_state\"),\n",
    "    col(\"customer_lat\"), # from geo_cust join\n",
    "    col(\"customer_lng\"), # from geo_cust join\n",
    "\n",
    "    # Order Item Details\n",
    "    col(\"oi.order_item_id\"),\n",
    "    col(\"oi.product_id\"),\n",
    "    col(\"oi.price\").alias(\"item_price\"), # Renamed to avoid conflict with payment_value\n",
    "    col(\"oi.freight_value\").alias(\"item_freight_value\"),\n",
    "    col(\"oi.total_value\").alias(\"item_total_value\"), # total_value from order_items\n",
    "    col(\"oi.shipping_limit_date\"),\n",
    "    col(\"oi.shipping_date\"),\n",
    "    col(\"oi.shipping_year\"),\n",
    "    col(\"oi.shipping_month\"),\n",
    "\n",
    "    # Product Details\n",
    "    col(\"p.product_category_name\"),\n",
    "    col(\"p.product_name_lenght\"),\n",
    "    col(\"p.product_description_lenght\"),\n",
    "    col(\"p.product_photos_qty\"),\n",
    "    col(\"p.product_weight_g\"),\n",
    "    col(\"p.product_length_cm\"),\n",
    "    col(\"p.product_height_cm\"),\n",
    "    col(\"p.product_width_cm\"),\n",
    "    col(\"p.product_weight_kg\"),\n",
    "    col(\"p.product_category_clean\"),\n",
    "\n",
    "    # Seller Details\n",
    "    col(\"s.seller_id\"),\n",
    "    col(\"s.seller_zip_code_prefix\"),\n",
    "    col(\"s.seller_city\"),\n",
    "    col(\"s.seller_state\"),\n",
    "    col(\"seller_lat\"), # from geo_seller join\n",
    "    col(\"seller_lng\"), # from geo_seller join\n",
    "\n",
    "    # Payment Details\n",
    "    col(\"op.payment_sequential\"),\n",
    "    col(\"op.payment_type\"),\n",
    "    col(\"op.payment_installments\"),\n",
    "    col(\"op.payment_value\").alias(\"order_payment_value\"), # Renamed for clarity\n",
    "    col(\"op.installment_value\"),\n",
    "\n",
    "    # Review Details\n",
    "    col(\"orv.review_id\"),\n",
    "    col(\"orv.review_score\"),\n",
    "    col(\"orv.review_comment_title\"),\n",
    "    col(\"orv.review_comment_message\"),\n",
    "    col(\"orv.review_creation_date\"),\n",
    "    col(\"orv.review_answer_timestamp\")\n",
    ")"
   ]
  },
  {
   "cell_type": "code",
   "execution_count": 19,
   "id": "f42072a7-e9d7-473e-9f60-a3f516716432",
   "metadata": {
    "tags": []
   },
   "outputs": [],
   "source": [
    "# Set your temp GCS bucket path\n",
    "temp_gcs_bucket = \"temp-buck-111\"  # just the bucket name, without gs://"
   ]
  },
  {
   "cell_type": "code",
   "execution_count": 20,
   "id": "8515b83f-f4b4-43ba-b9c1-7ff031b11271",
   "metadata": {},
   "outputs": [
    {
     "name": "stderr",
     "output_type": "stream",
     "text": [
      "                                                                                \r"
     ]
    },
    {
     "name": "stdout",
     "output_type": "stream",
     "text": [
      "✅ Successfully wrote combined data to BigQuery table: fluid-shadow-459720-q0.olist_dataset.ecomm_data\n"
     ]
    }
   ],
   "source": [
    "try:\n",
    "    final_combined_df.write \\\n",
    "        .format(\"bigquery\") \\\n",
    "        .option(\"temporaryGcsBucket\", temp_gcs_bucket) \\\n",
    "        .option(\"table\", bigquery_table) \\\n",
    "        .mode(\"overwrite\") \\\n",
    "        .save()\n",
    "    print(f\"✅ Successfully wrote combined data to BigQuery table: {bigquery_table}\")\n",
    "except Exception as e:\n",
    "    print(f\"❌ Error writing to BigQuery: {e}\")"
   ]
  },
  {
   "cell_type": "code",
   "execution_count": null,
   "id": "ab166aac-73ec-44f8-a12a-e18477677e06",
   "metadata": {},
   "outputs": [],
   "source": []
  },
  {
   "cell_type": "code",
   "execution_count": null,
   "id": "9a4dcc30-141b-46bf-af30-1695e31f6ee2",
   "metadata": {},
   "outputs": [],
   "source": []
  },
  {
   "cell_type": "code",
   "execution_count": null,
   "id": "bf274472-c912-420a-8707-e15edd8d5005",
   "metadata": {},
   "outputs": [],
   "source": []
  },
  {
   "cell_type": "code",
   "execution_count": null,
   "id": "803c0492-46e3-4cad-a6ca-b07488f6aed5",
   "metadata": {},
   "outputs": [],
   "source": []
  },
  {
   "cell_type": "code",
   "execution_count": null,
   "id": "769ba769-3100-4031-9b2b-cde49c52bebf",
   "metadata": {},
   "outputs": [],
   "source": []
  },
  {
   "cell_type": "code",
   "execution_count": 22,
   "id": "284b054b-4d91-4f39-bcf8-ba6c4a731569",
   "metadata": {
    "tags": []
   },
   "outputs": [],
   "source": [
    "spark.stop()"
   ]
  }
 ],
 "metadata": {
  "kernelspec": {
   "display_name": "PySpark",
   "language": "python",
   "name": "pyspark"
  },
  "language_info": {
   "codemirror_mode": {
    "name": "ipython",
    "version": 3
   },
   "file_extension": ".py",
   "mimetype": "text/x-python",
   "name": "python",
   "nbconvert_exporter": "python",
   "pygments_lexer": "ipython3",
   "version": "3.11.8"
  }
 },
 "nbformat": 4,
 "nbformat_minor": 5
}