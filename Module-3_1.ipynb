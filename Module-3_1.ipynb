{
 "cells": [
  {
   "cell_type": "code",
   "execution_count": 1,
   "id": "5f503ce5-e0ea-44e1-8603-c8a4d7a4eb2b",
   "metadata": {
    "tags": []
   },
   "outputs": [
    {
     "name": "stdout",
     "output_type": "stream",
     "text": [
      "2025-07-20 13:09:03,870 INFO client.DefaultNoHARMFailoverProxyProvider: Connecting to ResourceManager at cluster-3609-m.us-central1-c.c.fluid-shadow-459720-q0.internal./10.128.0.12:8032\n",
      "2025-07-20 13:09:04,257 INFO client.AHSProxy: Connecting to Application History server at cluster-3609-m.us-central1-c.c.fluid-shadow-459720-q0.internal./10.128.0.12:10200\n",
      "Total number of applications (application-types: [], states: [SUBMITTED, ACCEPTED, RUNNING] and tags: []):1\n",
      "                Application-Id\t    Application-Name\t    Application-Type\t      User\t     Queue\t             State\t       Final-State\t       Progress\t                       Tracking-URL\n",
      "application_1753015901820_0002\t        PySparkShell\t               SPARK\t      root\t   default\t           RUNNING\t         UNDEFINED\t            10%\thttp://cluster-3609-m.us-central1-c.c.fluid-shadow-459720-q0.internal:35053\n"
     ]
    }
   ],
   "source": [
    "!yarn application -list"
   ]
  },
  {
   "cell_type": "code",
   "execution_count": 2,
   "id": "4007e6a2-ea4e-4eda-a51a-a9e0b079c978",
   "metadata": {
    "tags": []
   },
   "outputs": [],
   "source": [
    "#yarn application -kill application_1753015901820_0001"
   ]
  },
  {
   "cell_type": "code",
   "execution_count": 3,
   "id": "b3a1a8d1-bdfc-4705-a0d1-76a65fc6e8ad",
   "metadata": {
    "tags": []
   },
   "outputs": [],
   "source": [
    "from pyspark.sql import SparkSession\n",
    "from pyspark.sql.functions import *\n",
    "from pyspark.sql.types import *"
   ]
  },
  {
   "cell_type": "code",
   "execution_count": 4,
   "id": "f5e205eb-701f-40ab-95e9-9f4196edc556",
   "metadata": {
    "tags": []
   },
   "outputs": [],
   "source": [
    "# 🔧 SOLUTION 1: Check if Spark session exists, create if needed\n",
    "def get_spark_session():\n",
    "    try:\n",
    "        # Try to get existing active session\n",
    "        spark = SparkSession.getActiveSession()\n",
    "        if spark is None:\n",
    "            # Create new session if none exists\n",
    "            spark = SparkSession.builder \\\n",
    "                .appName(\"Module-3\") \\\n",
    "                .getOrCreate()\n",
    "        return spark\n",
    "    except:\n",
    "        # If anything goes wrong, create fresh session\n",
    "        spark = SparkSession.builder \\\n",
    "            .appName(\"Module-3\") \\\n",
    "            .getOrCreate()\n",
    "        return spark"
   ]
  },
  {
   "cell_type": "code",
   "execution_count": 5,
   "id": "b7bbbf3d-ae13-4ccc-9abe-e389206b2f1e",
   "metadata": {
    "tags": []
   },
   "outputs": [],
   "source": [
    "# Get or create Spark session\n",
    "spark = get_spark_session()"
   ]
  },
  {
   "cell_type": "code",
   "execution_count": 6,
   "id": "e4435502-2650-4e3f-b043-31d5d2ebb62b",
   "metadata": {
    "tags": []
   },
   "outputs": [
    {
     "name": "stdout",
     "output_type": "stream",
     "text": [
      "✅ Spark Session Status:\n",
      "   App Name: PySparkShell\n",
      "   Master: yarn\n",
      "   Spark Version: 3.5.3\n",
      "   Active: True\n"
     ]
    }
   ],
   "source": [
    "print(\"✅ Spark Session Status:\")\n",
    "print(f\"   App Name: {spark.sparkContext.appName}\")\n",
    "print(f\"   Master: {spark.sparkContext.master}\")\n",
    "print(f\"   Spark Version: {spark.version}\")\n",
    "print(f\"   Active: {not spark.sparkContext._jsc.sc().isStopped()}\")"
   ]
  },
  {
   "cell_type": "code",
   "execution_count": 7,
   "id": "9ecdb00b-ef68-446a-8510-d0ea3d151d1a",
   "metadata": {
    "tags": []
   },
   "outputs": [],
   "source": [
    "# Define the base GCS bucket path\n",
    "gcs_bucket_path = \"gs://retail-order-data-bucket/output/\""
   ]
  },
  {
   "cell_type": "code",
   "execution_count": 8,
   "id": "794738e8-fbe3-41bd-a377-897bc9810310",
   "metadata": {
    "tags": []
   },
   "outputs": [
    {
     "name": "stderr",
     "output_type": "stream",
     "text": [
      "                                                                                \r"
     ]
    },
    {
     "name": "stdout",
     "output_type": "stream",
     "text": [
      "Customers DataFrame Schema:\n",
      "root\n",
      " |-- customer_id: string (nullable = true)\n",
      " |-- customer_unique_id: string (nullable = true)\n",
      " |-- customer_zip_code_prefix: string (nullable = true)\n",
      " |-- customer_city: string (nullable = true)\n",
      " |-- customer_state: string (nullable = true)\n",
      "\n"
     ]
    },
    {
     "name": "stderr",
     "output_type": "stream",
     "text": [
      "                                                                                \r"
     ]
    },
    {
     "name": "stdout",
     "output_type": "stream",
     "text": [
      "Customers DataFrame Count: 99441\n"
     ]
    },
    {
     "name": "stderr",
     "output_type": "stream",
     "text": [
      "                                                                                \r"
     ]
    },
    {
     "name": "stdout",
     "output_type": "stream",
     "text": [
      "+--------------------+--------------------+------------------------+--------------------+--------------+\n",
      "|         customer_id|  customer_unique_id|customer_zip_code_prefix|       customer_city|customer_state|\n",
      "+--------------------+--------------------+------------------------+--------------------+--------------+\n",
      "|06b8999e2fba1a1fb...|861eff4711a542e4b...|                   14409|              franca|            SP|\n",
      "|18955e83d337fd6b2...|290c77bc529b7ac93...|                    9790|sao bernardo do c...|            SP|\n",
      "|4e7b3e00288586ebd...|060e732b5b29e8181...|                    1151|           sao paulo|            SP|\n",
      "|b2b6027bc5c5109e5...|259dac757896d24d7...|                    8775|     mogi das cruzes|            SP|\n",
      "|4f2d8ab171c80ec83...|345ecd01c38d18a90...|                   13056|            campinas|            SP|\n",
      "+--------------------+--------------------+------------------------+--------------------+--------------+\n",
      "only showing top 5 rows\n",
      "\n"
     ]
    }
   ],
   "source": [
    "# Read each Parquet file into a DataFrame\n",
    "# Customers DataFrame\n",
    "customers_df = spark.read.parquet(f\"{gcs_bucket_path}customers_clean_df.parquet\")\n",
    "print(\"Customers DataFrame Schema:\")\n",
    "customers_df.printSchema()\n",
    "print(\"Customers DataFrame Count:\", customers_df.count())\n",
    "customers_df.show(5) # Show first 5 rows"
   ]
  },
  {
   "cell_type": "code",
   "execution_count": 9,
   "id": "c29bec28-feb6-48f2-96dc-22e7b33a3e20",
   "metadata": {
    "tags": []
   },
   "outputs": [
    {
     "name": "stdout",
     "output_type": "stream",
     "text": [
      "\n",
      "Geolocation DataFrame Schema:\n",
      "root\n",
      " |-- geolocation_zip_code_prefix: integer (nullable = true)\n",
      " |-- geolocation_lat: double (nullable = true)\n",
      " |-- geolocation_lng: double (nullable = true)\n",
      " |-- geolocation_city: string (nullable = true)\n",
      " |-- geolocation_state: string (nullable = true)\n",
      "\n",
      "Geolocation DataFrame Count: 728444\n"
     ]
    },
    {
     "name": "stderr",
     "output_type": "stream",
     "text": [
      "[Stage 9:>                                                          (0 + 1) / 1]\r"
     ]
    },
    {
     "name": "stdout",
     "output_type": "stream",
     "text": [
      "+---------------------------+-------------------+-------------------+----------------+-----------------+\n",
      "|geolocation_zip_code_prefix|    geolocation_lat|    geolocation_lng|geolocation_city|geolocation_state|\n",
      "+---------------------------+-------------------+-------------------+----------------+-----------------+\n",
      "|                       1023|-23.542959247850415|-46.631904601159945|       sao paulo|               SP|\n",
      "|                       1244|-23.550230577298162|-46.660698193865784|       sao paulo|               SP|\n",
      "|                       1424| -23.56816235942637| -46.66117892867444|       sao paulo|               SP|\n",
      "|                       1417|-23.561656060793965| -46.66621924231049|       sao paulo|               SP|\n",
      "|                       1410| -23.56631504385709| -46.66444195322872|       sao paulo|               SP|\n",
      "+---------------------------+-------------------+-------------------+----------------+-----------------+\n",
      "only showing top 5 rows\n",
      "\n"
     ]
    },
    {
     "name": "stderr",
     "output_type": "stream",
     "text": [
      "                                                                                \r"
     ]
    }
   ],
   "source": [
    "# Geolocation DataFrame\n",
    "geolocation_df = spark.read.parquet(f\"{gcs_bucket_path}geolocation_clean_df.parquet/\")\n",
    "print(\"\\nGeolocation DataFrame Schema:\")\n",
    "geolocation_df.printSchema()\n",
    "print(\"Geolocation DataFrame Count:\", geolocation_df.count())\n",
    "geolocation_df.show(5)"
   ]
  },
  {
   "cell_type": "code",
   "execution_count": 10,
   "id": "18e7e866-5a3f-498a-92a6-a069bedf13fc",
   "metadata": {
    "tags": []
   },
   "outputs": [
    {
     "name": "stdout",
     "output_type": "stream",
     "text": [
      "\n",
      "Order Items DataFrame Schema:\n",
      "root\n",
      " |-- order_id: string (nullable = true)\n",
      " |-- order_item_id: integer (nullable = true)\n",
      " |-- product_id: string (nullable = true)\n",
      " |-- seller_id: string (nullable = true)\n",
      " |-- shipping_limit_date: timestamp (nullable = true)\n",
      " |-- price: decimal(10,2) (nullable = true)\n",
      " |-- freight_value: decimal(10,2) (nullable = true)\n",
      " |-- total_value: decimal(11,2) (nullable = true)\n",
      " |-- shipping_date: date (nullable = true)\n",
      " |-- shipping_year: integer (nullable = true)\n",
      " |-- shipping_month: integer (nullable = true)\n",
      "\n",
      "Order Items DataFrame Count: 112650\n"
     ]
    },
    {
     "name": "stderr",
     "output_type": "stream",
     "text": [
      "[Stage 14:>                                                         (0 + 1) / 1]\r"
     ]
    },
    {
     "name": "stdout",
     "output_type": "stream",
     "text": [
      "+--------------------+-------------+--------------------+--------------------+-------------------+------+-------------+-----------+-------------+-------------+--------------+\n",
      "|            order_id|order_item_id|          product_id|           seller_id|shipping_limit_date| price|freight_value|total_value|shipping_date|shipping_year|shipping_month|\n",
      "+--------------------+-------------+--------------------+--------------------+-------------------+------+-------------+-----------+-------------+-------------+--------------+\n",
      "|00010242fe8c5a6d1...|            1|4244733e06e7ecb49...|48436dade18ac8b2b...|2017-09-19 09:45:35| 58.90|        13.29|      72.19|   2017-09-19|         2017|             9|\n",
      "|00018f77f2f0320c5...|            1|e5f2d52b802189ee6...|dd7ddc04e1b6c2c61...|2017-05-03 11:05:13|239.90|        19.93|     259.83|   2017-05-03|         2017|             5|\n",
      "|000229ec398224ef6...|            1|c777355d18b72b67a...|5b51032eddd242adc...|2018-01-18 14:48:30|199.00|        17.87|     216.87|   2018-01-18|         2018|             1|\n",
      "|00024acbcdf0a6daa...|            1|7634da152a4610f15...|9d7a1d34a50524090...|2018-08-15 10:10:18| 12.99|        12.79|      25.78|   2018-08-15|         2018|             8|\n",
      "|00042b26cf59d7ce6...|            1|ac6c3623068f30de0...|df560393f3a51e745...|2017-02-13 13:57:51|199.90|        18.14|     218.04|   2017-02-13|         2017|             2|\n",
      "+--------------------+-------------+--------------------+--------------------+-------------------+------+-------------+-----------+-------------+-------------+--------------+\n",
      "only showing top 5 rows\n",
      "\n"
     ]
    },
    {
     "name": "stderr",
     "output_type": "stream",
     "text": [
      "                                                                                \r"
     ]
    }
   ],
   "source": [
    "# Order Items DataFrame\n",
    "order_items_df = spark.read.parquet(f\"{gcs_bucket_path}order_items_clean_df.parquet/\")\n",
    "print(\"\\nOrder Items DataFrame Schema:\")\n",
    "order_items_df.printSchema()\n",
    "print(\"Order Items DataFrame Count:\", order_items_df.count())\n",
    "order_items_df.show(5)"
   ]
  },
  {
   "cell_type": "code",
   "execution_count": 11,
   "id": "1fd2858b-1033-4b2d-8b84-945bc933eca0",
   "metadata": {
    "tags": []
   },
   "outputs": [
    {
     "name": "stdout",
     "output_type": "stream",
     "text": [
      "\n",
      "Order Payments DataFrame Schema:\n",
      "root\n",
      " |-- order_id: string (nullable = true)\n",
      " |-- payment_sequential: integer (nullable = true)\n",
      " |-- payment_type: string (nullable = true)\n",
      " |-- payment_installments: integer (nullable = true)\n",
      " |-- payment_value: decimal(10,2) (nullable = true)\n",
      " |-- installment_value: decimal(10,2) (nullable = true)\n",
      "\n",
      "Order Payments DataFrame Count: 103886\n",
      "+--------------------+------------------+------------+--------------------+-------------+-----------------+\n",
      "|            order_id|payment_sequential|payment_type|payment_installments|payment_value|installment_value|\n",
      "+--------------------+------------------+------------+--------------------+-------------+-----------------+\n",
      "|b81ef226f3fe1789b...|                 1| credit_card|                   8|        99.33|            12.42|\n",
      "|a9810da82917af2d9...|                 1| credit_card|                   1|        24.39|            24.39|\n",
      "|25e8ea4e93396b6fa...|                 1| credit_card|                   1|        65.71|            65.71|\n",
      "|ba78997921bbcdc13...|                 1| credit_card|                   8|       107.78|            13.47|\n",
      "|42fdf880ba16b47b5...|                 1| credit_card|                   2|       128.45|            64.23|\n",
      "+--------------------+------------------+------------+--------------------+-------------+-----------------+\n",
      "only showing top 5 rows\n",
      "\n"
     ]
    }
   ],
   "source": [
    "# Order Payments DataFrame\n",
    "order_payments_df = spark.read.parquet(f\"{gcs_bucket_path}order_payments_clean_df.parquet/\")\n",
    "print(\"\\nOrder Payments DataFrame Schema:\")\n",
    "order_payments_df.printSchema()\n",
    "print(\"Order Payments DataFrame Count:\", order_payments_df.count())\n",
    "order_payments_df.show(5)"
   ]
  },
  {
   "cell_type": "code",
   "execution_count": 12,
   "id": "20c5fc6d-e568-49ff-8dc7-8e27b3efef10",
   "metadata": {
    "tags": []
   },
   "outputs": [
    {
     "name": "stdout",
     "output_type": "stream",
     "text": [
      "\n",
      "Orders DataFrame Schema:\n",
      "root\n",
      " |-- order_id: string (nullable = true)\n",
      " |-- customer_id: string (nullable = true)\n",
      " |-- order_status: string (nullable = true)\n",
      " |-- order_purchase_timestamp: timestamp (nullable = true)\n",
      " |-- order_approved_at: timestamp (nullable = true)\n",
      " |-- order_delivered_carrier_date: timestamp (nullable = true)\n",
      " |-- order_delivered_customer_date: timestamp (nullable = true)\n",
      " |-- order_estimated_delivery_date: timestamp (nullable = true)\n",
      "\n",
      "Orders DataFrame Count: 99441\n",
      "+--------------------+--------------------+------------+------------------------+-------------------+----------------------------+-----------------------------+-----------------------------+\n",
      "|            order_id|         customer_id|order_status|order_purchase_timestamp|  order_approved_at|order_delivered_carrier_date|order_delivered_customer_date|order_estimated_delivery_date|\n",
      "+--------------------+--------------------+------------+------------------------+-------------------+----------------------------+-----------------------------+-----------------------------+\n",
      "|e481f51cbdc54678b...|9ef432eb625129730...|   delivered|     2017-10-02 10:56:33|2017-10-02 11:07:15|         2017-10-04 19:55:00|          2017-10-10 21:25:13|          2017-10-18 00:00:00|\n",
      "|53cdb2fc8bc7dce0b...|b0830fb4747a6c6d2...|   delivered|     2018-07-24 20:41:37|2018-07-26 03:24:27|         2018-07-26 14:31:00|          2018-08-07 15:27:45|          2018-08-13 00:00:00|\n",
      "|47770eb9100c2d0c4...|41ce2a54c0b03bf34...|   delivered|     2018-08-08 08:38:49|2018-08-08 08:55:23|         2018-08-08 13:50:00|          2018-08-17 18:06:29|          2018-09-04 00:00:00|\n",
      "|949d5b44dbf5de918...|f88197465ea7920ad...|   delivered|     2017-11-18 19:28:06|2017-11-18 19:45:59|         2017-11-22 13:39:59|          2017-12-02 00:28:42|          2017-12-15 00:00:00|\n",
      "|ad21c59c0840e6cb8...|8ab97904e6daea886...|   delivered|     2018-02-13 21:18:39|2018-02-13 22:20:29|         2018-02-14 19:46:34|          2018-02-16 18:17:02|          2018-02-26 00:00:00|\n",
      "+--------------------+--------------------+------------+------------------------+-------------------+----------------------------+-----------------------------+-----------------------------+\n",
      "only showing top 5 rows\n",
      "\n"
     ]
    },
    {
     "name": "stderr",
     "output_type": "stream",
     "text": [
      "                                                                                \r"
     ]
    }
   ],
   "source": [
    "# Orders DataFrame\n",
    "orders_df = spark.read.parquet(f\"{gcs_bucket_path}orders_clean_df.parquet/\")\n",
    "print(\"\\nOrders DataFrame Schema:\")\n",
    "orders_df.printSchema()\n",
    "print(\"Orders DataFrame Count:\", orders_df.count())\n",
    "orders_df.show(5)"
   ]
  },
  {
   "cell_type": "code",
   "execution_count": 13,
   "id": "ca21a61c-e062-4466-b37f-6aca31490d1a",
   "metadata": {
    "tags": []
   },
   "outputs": [
    {
     "name": "stdout",
     "output_type": "stream",
     "text": [
      "\n",
      "Sellers DataFrame Schema:\n",
      "root\n",
      " |-- seller_id: string (nullable = true)\n",
      " |-- seller_zip_code_prefix: string (nullable = true)\n",
      " |-- seller_city: string (nullable = true)\n",
      " |-- seller_state: string (nullable = true)\n",
      "\n",
      "Sellers DataFrame Count: 3095\n",
      "+--------------------+----------------------+-----------------+------------+\n",
      "|           seller_id|seller_zip_code_prefix|      seller_city|seller_state|\n",
      "+--------------------+----------------------+-----------------+------------+\n",
      "|3442f8959a84dea7e...|                 13023|         campinas|          SP|\n",
      "|d1b65fc7debc3361e...|                 13844|       mogi guacu|          SP|\n",
      "|ce3ad9de960102d06...|                 20031|   rio de janeiro|          RJ|\n",
      "|c0f3eea2e14555b6f...|                  4195|        sao paulo|          SP|\n",
      "|51a04a8a6bdcb23de...|                 12914|braganca paulista|          SP|\n",
      "+--------------------+----------------------+-----------------+------------+\n",
      "only showing top 5 rows\n",
      "\n"
     ]
    }
   ],
   "source": [
    "# Sellers DataFrame\n",
    "sellers_df = spark.read.parquet(f\"{gcs_bucket_path}sellers_clean_df.parquet/\")\n",
    "print(\"\\nSellers DataFrame Schema:\")\n",
    "sellers_df.printSchema()\n",
    "print(\"Sellers DataFrame Count:\", sellers_df.count())\n",
    "sellers_df.show(5)\n"
   ]
  },
  {
   "cell_type": "code",
   "execution_count": 14,
   "id": "9df0a6cb-fbe0-4473-b837-deb0dc3d8933",
   "metadata": {
    "tags": []
   },
   "outputs": [
    {
     "name": "stdout",
     "output_type": "stream",
     "text": [
      "\n",
      "Order Reviews DataFrame Schema:\n",
      "root\n",
      " |-- review_id: string (nullable = true)\n",
      " |-- order_id: string (nullable = true)\n",
      " |-- review_score: integer (nullable = true)\n",
      " |-- review_comment_title: string (nullable = true)\n",
      " |-- review_comment_message: string (nullable = true)\n",
      " |-- review_creation_date: timestamp (nullable = true)\n",
      " |-- review_answer_timestamp: timestamp (nullable = true)\n",
      "\n",
      "Order Reviews DataFrame Count: 99224\n",
      "+--------------------+--------------------+------------+--------------------+----------------------+--------------------+-----------------------+\n",
      "|           review_id|            order_id|review_score|review_comment_title|review_comment_message|review_creation_date|review_answer_timestamp|\n",
      "+--------------------+--------------------+------------+--------------------+----------------------+--------------------+-----------------------+\n",
      "|7bc2406110b926393...|73fc7af87114b3971...|           4|                NULL|                  NULL| 2018-01-18 00:00:00|    2018-01-18 21:46:59|\n",
      "|80e641a11e56f04c1...|a548910a1c6147796...|           5|                NULL|                  NULL| 2018-03-10 00:00:00|    2018-03-11 03:05:13|\n",
      "|228ce5500dc1d8e02...|f9e4b658b201a9f2e...|           5|                NULL|                  NULL| 2018-02-17 00:00:00|    2018-02-18 14:36:24|\n",
      "|e64fb393e7b32834b...|658677c97b385a9be...|           5|                NULL|  Recebi bem antes ...| 2017-04-21 00:00:00|    2017-04-21 22:02:06|\n",
      "|f7c4243c7fe1938f1...|8e6bfb81e283fa7e4...|           5|                NULL|  Parabns lojas lan...| 2018-03-01 00:00:00|    2018-03-02 10:26:53|\n",
      "+--------------------+--------------------+------------+--------------------+----------------------+--------------------+-----------------------+\n",
      "only showing top 5 rows\n",
      "\n"
     ]
    },
    {
     "name": "stderr",
     "output_type": "stream",
     "text": [
      "                                                                                \r"
     ]
    }
   ],
   "source": [
    "# Order Reviews DataFrame\n",
    "order_reviews_df = spark.read.parquet(f\"{gcs_bucket_path}orders_reviews_clean_df.parquet/\")\n",
    "print(\"\\nOrder Reviews DataFrame Schema:\")\n",
    "order_reviews_df.printSchema()\n",
    "print(\"Order Reviews DataFrame Count:\", order_reviews_df.count())\n",
    "order_reviews_df.show(5)"
   ]
  },
  {
   "cell_type": "code",
   "execution_count": 15,
   "id": "9bf76c65-3f5f-4dbf-84c5-614c97c80756",
   "metadata": {
    "tags": []
   },
   "outputs": [
    {
     "name": "stdout",
     "output_type": "stream",
     "text": [
      "\n",
      "Products DataFrame Schema:\n",
      "root\n",
      " |-- product_id: string (nullable = true)\n",
      " |-- product_category_name: string (nullable = true)\n",
      " |-- product_name_lenght: integer (nullable = true)\n",
      " |-- product_description_lenght: integer (nullable = true)\n",
      " |-- product_photos_qty: integer (nullable = true)\n",
      " |-- product_weight_g: integer (nullable = true)\n",
      " |-- product_length_cm: integer (nullable = true)\n",
      " |-- product_height_cm: integer (nullable = true)\n",
      " |-- product_width_cm: integer (nullable = true)\n",
      " |-- product_weight_kg: decimal(10,3) (nullable = true)\n",
      " |-- product_category_clean: string (nullable = true)\n",
      "\n",
      "Products DataFrame Count: 32951\n",
      "+--------------------+---------------------+-------------------+--------------------------+------------------+----------------+-----------------+-----------------+----------------+-----------------+----------------------+\n",
      "|          product_id|product_category_name|product_name_lenght|product_description_lenght|product_photos_qty|product_weight_g|product_length_cm|product_height_cm|product_width_cm|product_weight_kg|product_category_clean|\n",
      "+--------------------+---------------------+-------------------+--------------------------+------------------+----------------+-----------------+-----------------+----------------+-----------------+----------------------+\n",
      "|1e9e8ef04dbcff454...|           perfumaria|                 40|                       287|                 1|             225|               16|               10|              14|            0.225|            perfumaria|\n",
      "|3aa071139cb16b67c...|                artes|                 44|                       276|                 1|            1000|               30|               18|              20|            1.000|                 artes|\n",
      "|96bd76ec8810374ed...|        esporte lazer|                 46|                       250|                 1|             154|               18|                9|              15|            0.154|         esporte lazer|\n",
      "|cef67bcfe19066a93...|                bebes|                 27|                       261|                 1|             371|               26|                4|              26|            0.371|                 bebes|\n",
      "|9dc1a7de274444849...| utilidades domest...|                 37|                       402|                 4|             625|               20|               17|              13|            0.625|  utilidades domest...|\n",
      "+--------------------+---------------------+-------------------+--------------------------+------------------+----------------+-----------------+-----------------+----------------+-----------------+----------------------+\n",
      "only showing top 5 rows\n",
      "\n"
     ]
    }
   ],
   "source": [
    "# Products DataFrame\n",
    "products_df = spark.read.parquet(f\"{gcs_bucket_path}products_clean_df.parquet/\")\n",
    "print(\"\\nProducts DataFrame Schema:\")\n",
    "products_df.printSchema()\n",
    "print(\"Products DataFrame Count:\", products_df.count())\n",
    "products_df.show(5)"
   ]
  },
  {
   "cell_type": "markdown",
   "id": "89ae278c-1e85-4d5e-b571-58482166a95a",
   "metadata": {},
   "source": [
    "##  Customer Analysis"
   ]
  },
  {
   "cell_type": "code",
   "execution_count": 16,
   "id": "af5cb718-3863-4783-bfc4-9f6e0e9ee113",
   "metadata": {
    "tags": []
   },
   "outputs": [
    {
     "name": "stderr",
     "output_type": "stream",
     "text": [
      "[Stage 40:=============================>                            (1 + 1) / 2]\r"
     ]
    },
    {
     "name": "stdout",
     "output_type": "stream",
     "text": [
      "+--------------+-----------------+\n",
      "|customer_state|total_no_customer|\n",
      "+--------------+-----------------+\n",
      "|            SP|            41746|\n",
      "|            RJ|            12852|\n",
      "|            MG|            11635|\n",
      "|            RS|             5466|\n",
      "|            PR|             5045|\n",
      "|            SC|             3637|\n",
      "|            BA|             3380|\n",
      "|            DF|             2140|\n",
      "|            ES|             2033|\n",
      "|            GO|             2020|\n",
      "+--------------+-----------------+\n",
      "\n"
     ]
    },
    {
     "name": "stderr",
     "output_type": "stream",
     "text": [
      "                                                                                \r"
     ]
    }
   ],
   "source": [
    "#Q1.1: Find the top 10 states with the highest number of customers\n",
    "q = customers_df.groupBy(\"customer_state\").agg(count(\"customer_id\").alias(\"total_no_customer\")).orderBy(col(\"total_no_customer\").desc()).limit(10)\n",
    "q.show()"
   ]
  },
  {
   "cell_type": "code",
   "execution_count": 17,
   "id": "ba8e64d0-b3d4-440d-b849-df8162baca6f",
   "metadata": {
    "tags": []
   },
   "outputs": [
    {
     "name": "stderr",
     "output_type": "stream",
     "text": [
      "                                                                                \r"
     ]
    },
    {
     "name": "stdout",
     "output_type": "stream",
     "text": [
      "+----------------+\n",
      "|avg(order_count)|\n",
      "+----------------+\n",
      "|             1.0|\n",
      "+----------------+\n",
      "\n"
     ]
    },
    {
     "name": "stderr",
     "output_type": "stream",
     "text": [
      "[Stage 51:>                                                         (0 + 2) / 2]\r"
     ]
    },
    {
     "name": "stdout",
     "output_type": "stream",
     "text": [
      "+--------------------+-----------+\n",
      "|         customer_id|order_count|\n",
      "+--------------------+-----------+\n",
      "|f1e46939e6408b3e6...|          1|\n",
      "|90d7075599361b694...|          1|\n",
      "|a340ce6c3570e68d4...|          1|\n",
      "|b76530b7e66b27cd6...|          1|\n",
      "|4d91a0aeb419c5f26...|          1|\n",
      "|2aec499f94f5e8278...|          1|\n",
      "|791fffae1e2c66693...|          1|\n",
      "|0721e1c4b91bc6ded...|          1|\n",
      "|d480546bdc6b03fca...|          1|\n",
      "|6f8b4eeaba59ef3fa...|          1|\n",
      "|c0fe0fbc24994167d...|          1|\n",
      "|42da09831872a4ecc...|          1|\n",
      "|2a8da2a879305eff0...|          1|\n",
      "|452c0341844c3025a...|          1|\n",
      "|c61b59e94df1163ca...|          1|\n",
      "|5ff12b5d7429e2bfd...|          1|\n",
      "|44e0884274cbedabc...|          1|\n",
      "|d0615859a639a94c1...|          1|\n",
      "|62189b05812bf34dc...|          1|\n",
      "|aa62a16b10e3fb24e...|          1|\n",
      "+--------------------+-----------+\n",
      "only showing top 20 rows\n",
      "\n"
     ]
    },
    {
     "name": "stderr",
     "output_type": "stream",
     "text": [
      "                                                                                \r"
     ]
    }
   ],
   "source": [
    "#Q1.2: Calculate the average number of orders per customer\n",
    "co_df = customers_df.join(orders_df,\"customer_id\",\"inner\")\n",
    "count_order = co_df.groupBy(\"customer_id\").agg(count(\"order_id\").alias(\"order_count\"))\n",
    "avg_order = count_order.agg(avg(\"order_count\"))\n",
    "avg_order.show()\n",
    "count_order.show()"
   ]
  },
  {
   "cell_type": "code",
   "execution_count": 18,
   "id": "e0d9c90b-dd09-4026-b7d4-4d4383e5b3d2",
   "metadata": {
    "tags": []
   },
   "outputs": [
    {
     "name": "stderr",
     "output_type": "stream",
     "text": [
      "                                                                                \r"
     ]
    },
    {
     "name": "stdout",
     "output_type": "stream",
     "text": [
      "+-----------+-----------+\n",
      "|customer_id|order_count|\n",
      "+-----------+-----------+\n",
      "+-----------+-----------+\n",
      "\n"
     ]
    }
   ],
   "source": [
    "#Q1.3: Find customers who have made more than 3 orders\n",
    "co_df = customers_df.join(orders_df,\"customer_id\",\"inner\")\n",
    "count_order = co_df.groupBy(\"customer_id\").agg(count(\"order_id\").alias(\"order_count\"))\n",
    "count_order = count_order.filter(col(\"order_count\")>=3)\n",
    "count_order.show()\n",
    "\n"
   ]
  },
  {
   "cell_type": "markdown",
   "id": "5eb91dd3-a72f-449b-a220-277cc88330b0",
   "metadata": {},
   "source": [
    "## 2. Product Performance"
   ]
  },
  {
   "cell_type": "code",
   "execution_count": 19,
   "id": "b322ca2f-ccb3-4d72-9a07-9b577b1c342d",
   "metadata": {
    "tags": []
   },
   "outputs": [
    {
     "name": "stderr",
     "output_type": "stream",
     "text": [
      "[Stage 61:=============================>                            (1 + 1) / 2]\r"
     ]
    },
    {
     "name": "stdout",
     "output_type": "stream",
     "text": [
      "+--------------------------------+-----------+\n",
      "|product_id                      |order_count|\n",
      "+--------------------------------+-----------+\n",
      "|aca2eb7d00ea1a7b8ebd4e68314663af|527        |\n",
      "|99a4788cb24856965c36a24e339b6058|488        |\n",
      "|422879e10f46682990de24d770e7f83d|484        |\n",
      "|389d119b48cf3043d311335e499d9c6b|392        |\n",
      "|368c6c730842d78016ad823897a372db|388        |\n",
      "|53759a2ecddad2bb87a079a1f1519f73|373        |\n",
      "|d1c427060a0f73f6b889a5c7c61f2ac4|343        |\n",
      "|53b36df67ebb7c41585e8d54d6772e08|323        |\n",
      "|154e7e31ebfa092203795c972e5804a6|281        |\n",
      "|3dd2a17168ec895c781a9191c1e95ad7|274        |\n",
      "|2b4609f8948be18874494203496bc318|260        |\n",
      "|7c1bd920dbdf22470b68bde975dd3ccf|231        |\n",
      "|a62e25e09e05e6faf31d90c6ec1aa3d1|226        |\n",
      "|5a848e4ab52fd5445cdc07aab1c40e48|197        |\n",
      "|bb50f2e236e5eea0100680137654686c|195        |\n",
      "|e0d64dcfaa3b6db5c54ca298ae101d05|194        |\n",
      "|e53e557d5a159f5aa2c5e995dfdf244b|183        |\n",
      "|42a2c92a0979a949ca4ea89ec5c7b934|183        |\n",
      "|b532349fe46b38fbc7bb3914c1bdae07|169        |\n",
      "|35afc973633aaeb6b877ff57b2793310|165        |\n",
      "+--------------------------------+-----------+\n",
      "only showing top 20 rows\n",
      "\n"
     ]
    },
    {
     "name": "stderr",
     "output_type": "stream",
     "text": [
      "                                                                                \r"
     ]
    }
   ],
   "source": [
    "# Q2.1: Identify the top 20 best-selling products by quantity\n",
    "poi = products_df.join(order_items_df,\"product_id\",\"inner\")\n",
    "best = poi.groupBy(\"product_id\").agg(count(\"order_item_id\").alias(\"order_count\")).orderBy(col(\"order_count\").desc())\n",
    "best.show(20,False)\n"
   ]
  },
  {
   "cell_type": "code",
   "execution_count": 20,
   "id": "9a05d365-6f0b-4977-8353-a5d7bf3697c8",
   "metadata": {
    "tags": []
   },
   "outputs": [
    {
     "name": "stderr",
     "output_type": "stream",
     "text": [
      "[Stage 65:=============================>                            (1 + 1) / 2]\r"
     ]
    },
    {
     "name": "stdout",
     "output_type": "stream",
     "text": [
      "+---------------------+--------------------+---------+----------+\n",
      "|product_category_name|          product_id|max_value|row_number|\n",
      "+---------------------+--------------------+---------+----------+\n",
      "|                 NULL|4c50dcc50f1512f46...|  4042.74|         1|\n",
      "| agro industria e ...|2b69866f22de8dad6...|  3184.55|         1|\n",
      "|            alimentos|21b4d9c7183dd6f20...|   285.73|         1|\n",
      "|    alimentos bebidas|dbd8772797eb43bcb...|   720.77|         1|\n",
      "|                artes|1bdf5e6731585cf01...|  6726.66|         1|\n",
      "|   artes e artesanato|6bb18295cc019bf3b...|   314.32|         1|\n",
      "|    artigos de festas|833fb04f7b1c82365...|   602.58|         1|\n",
      "|     artigos de natal|fad983a47c56c7050...|   368.66|         1|\n",
      "|                audio|9bfc55df037ce3ac0...|   636.98|         1|\n",
      "|           automotivo|628b17449083fb346...|  2322.32|         1|\n",
      "+---------------------+--------------------+---------+----------+\n",
      "only showing top 10 rows\n",
      "\n"
     ]
    },
    {
     "name": "stderr",
     "output_type": "stream",
     "text": [
      "                                                                                \r"
     ]
    }
   ],
   "source": [
    "#Q2.2: Find the most expensive product in each category\n",
    "from pyspark.sql import Window\n",
    "poi = products_df.join(order_items_df,\"product_id\",\"inner\")\n",
    "r = poi.groupBy(\"product_category_name\",\"product_id\").agg(max(\"total_value\").alias(\"max_value\"))\n",
    "# Define a window specification: partition by 'category', order by 'value'\n",
    "window_spec = Window.partitionBy(\"product_category_name\").orderBy(col(\"max_value\").desc())\n",
    "# Calculate row number within each category\n",
    "r = r.withColumn(\"row_number\",row_number().over(window_spec))\n",
    "r = r.filter(col(\"row_number\")==1)\n",
    "r.show(10)"
   ]
  },
  {
   "cell_type": "code",
   "execution_count": 21,
   "id": "e39bedab-9f9a-4512-9e1b-10cedb8213c7",
   "metadata": {
    "tags": []
   },
   "outputs": [
    {
     "name": "stderr",
     "output_type": "stream",
     "text": [
      "[Stage 71:>                                                         (0 + 1) / 1]\r"
     ]
    },
    {
     "name": "stdout",
     "output_type": "stream",
     "text": [
      "+---------------------+----------------------+\n",
      "|product_category_name|avg(product_weight_kg)|\n",
      "+---------------------+----------------------+\n",
      "| fashion bolsas e ...|             0.4267644|\n",
      "|     artigos de natal|             1.8498154|\n",
      "|                 NULL|             2.2507652|\n",
      "|            cine foto|             0.7957857|\n",
      "|      cama mesa banho|             2.4564051|\n",
      "|      fraldas higiene|             1.0375000|\n",
      "|           perfumaria|             0.5292569|\n",
      "| agro industria e ...|             5.2634054|\n",
      "|         climatizacao|             4.4599597|\n",
      "|     fashion calcados|             1.0445087|\n",
      "| utilidades domest...|             3.0207936|\n",
      "|           la cuisine|             4.3500000|\n",
      "|             pet shop|             3.0888567|\n",
      "| portateis cozinha...|             2.5175000|\n",
      "| sinalizacao e seg...|             2.9698172|\n",
      "|               flores|             1.4035714|\n",
      "| portateis casa fo...|             3.0715161|\n",
      "| fashion roupa inf...|             0.3240000|\n",
      "|     malas acessorios|             3.7232837|\n",
      "| construcao ferram...|             1.0478205|\n",
      "+---------------------+----------------------+\n",
      "only showing top 20 rows\n",
      "\n"
     ]
    },
    {
     "name": "stderr",
     "output_type": "stream",
     "text": [
      "                                                                                \r"
     ]
    }
   ],
   "source": [
    "#Q2.3: Calculate the average product weight by category\n",
    "aw = products_df.groupBy(\"product_category_name\").agg(avg(\"product_weight_kg\"))\n",
    "aw.show()"
   ]
  },
  {
   "cell_type": "markdown",
   "id": "be7565a0-12fb-4a25-8416-33cb85680588",
   "metadata": {},
   "source": [
    "## 3. Order Statistics"
   ]
  },
  {
   "cell_type": "code",
   "execution_count": 22,
   "id": "e218a3f2-867a-49be-b142-9d9634822e6a",
   "metadata": {
    "tags": []
   },
   "outputs": [
    {
     "name": "stderr",
     "output_type": "stream",
     "text": [
      "[Stage 74:>                                                         (0 + 2) / 2]\r"
     ]
    },
    {
     "name": "stdout",
     "output_type": "stream",
     "text": [
      "+--------------+-------------+------------+\n",
      "|shipping_month|shipping_year|total_revenu|\n",
      "+--------------+-------------+------------+\n",
      "|             9|         2016|      218.52|\n",
      "|            10|         2016|    56945.07|\n",
      "|            12|         2016|       19.62|\n",
      "|             1|         2017|    92198.41|\n",
      "|             2|         2017|   282731.52|\n",
      "|             3|         2017|   396542.39|\n",
      "|             4|         2017|   352845.76|\n",
      "|             5|         2017|   586221.79|\n",
      "|             6|         2017|   543623.12|\n",
      "|             7|         2017|   544850.17|\n",
      "|             8|         2017|   656244.33|\n",
      "|             9|         2017|   711614.67|\n",
      "|            10|         2017|   760543.96|\n",
      "|            11|         2017|  1027375.70|\n",
      "|            12|         2017|  1045817.04|\n",
      "|             1|         2018|   987044.01|\n",
      "|             2|         2018|   958197.45|\n",
      "|             3|         2018|  1209226.26|\n",
      "|             4|         2018|  1116664.98|\n",
      "|             5|         2018|  1252698.09|\n",
      "+--------------+-------------+------------+\n",
      "only showing top 20 rows\n",
      "\n"
     ]
    },
    {
     "name": "stderr",
     "output_type": "stream",
     "text": [
      "                                                                                \r"
     ]
    }
   ],
   "source": [
    "#Q3.1: Calculate total revenue by month and year\n",
    "rx = order_items_df.groupBy(\"shipping_month\",\"shipping_year\").agg(sum(\"total_value\").alias(\"total_revenu\")).orderBy(col(\"shipping_year\").asc(),col(\"shipping_month\").asc())\n",
    "rx.show()"
   ]
  },
  {
   "cell_type": "code",
   "execution_count": 23,
   "id": "081a5320-15f5-4272-9318-a2b6c3e5166d",
   "metadata": {
    "tags": []
   },
   "outputs": [
    {
     "name": "stdout",
     "output_type": "stream",
     "text": [
      "+------------+---------------+\n",
      "|order_status|count(order_id)|\n",
      "+------------+---------------+\n",
      "|   delivered|          96478|\n",
      "|    canceled|            625|\n",
      "|     created|              5|\n",
      "|     shipped|           1107|\n",
      "|    approved|              2|\n",
      "|  processing|            301|\n",
      "|    invoiced|            314|\n",
      "| unavailable|            609|\n",
      "+------------+---------------+\n",
      "\n"
     ]
    }
   ],
   "source": [
    "#Q3.2: Find the distribution of order statuses\n",
    "os = orders_df.groupBy(\"order_status\").agg(count(\"order_id\"))\n",
    "os.show()"
   ]
  },
  {
   "cell_type": "code",
   "execution_count": 24,
   "id": "3d4a3c19-e216-494a-a3f2-fc0b28667445",
   "metadata": {
    "tags": []
   },
   "outputs": [
    {
     "name": "stderr",
     "output_type": "stream",
     "text": [
      "[Stage 80:=============================>                            (1 + 1) / 2]\r"
     ]
    },
    {
     "name": "stdout",
     "output_type": "stream",
     "text": [
      "+---------------------+\n",
      "|avg(sum(total_value))|\n",
      "+---------------------+\n",
      "|           160.577638|\n",
      "+---------------------+\n",
      "\n"
     ]
    },
    {
     "name": "stderr",
     "output_type": "stream",
     "text": [
      "                                                                                \r"
     ]
    }
   ],
   "source": [
    "#Q3.3: Calculate the average order value\n",
    "aov = order_items_df.groupBy(\"order_id\").agg(sum(\"total_value\"))\n",
    "av = aov.agg(avg(\"sum(total_value)\"))\n",
    "av.show()"
   ]
  },
  {
   "cell_type": "markdown",
   "id": "db2ad706-1bc7-4db7-9a24-0a0ec601f069",
   "metadata": {},
   "source": [
    "## INTERMEDIATE JOINS & TRANSFORMATIONS"
   ]
  },
  {
   "cell_type": "markdown",
   "id": "9856fdbf-afe9-4fde-b963-c17d9e79bf88",
   "metadata": {},
   "source": [
    "## Multi-Table Analysis"
   ]
  },
  {
   "cell_type": "code",
   "execution_count": 25,
   "id": "5771a2d9-7e2a-4c6e-989b-47a11606b6ca",
   "metadata": {
    "tags": []
   },
   "outputs": [
    {
     "name": "stderr",
     "output_type": "stream",
     "text": [
      "[Stage 88:>                                                         (0 + 2) / 2]\r"
     ]
    },
    {
     "name": "stdout",
     "output_type": "stream",
     "text": [
      "+--------------+------------+\n",
      "| customer_city|total_revenu|\n",
      "+--------------+------------+\n",
      "|     sao paulo|  2170227.12|\n",
      "|rio de janeiro|  1154234.02|\n",
      "|belo horizonte|   416733.39|\n",
      "|      brasilia|   352305.14|\n",
      "|      curitiba|   244739.87|\n",
      "+--------------+------------+\n",
      "\n"
     ]
    },
    {
     "name": "stderr",
     "output_type": "stream",
     "text": [
      "                                                                                \r"
     ]
    }
   ],
   "source": [
    "#Q4.1: Join orders with customers to find the top 5 cities by total order value\n",
    "r = customers_df.join(orders_df,\"customer_id\",\"inner\")\n",
    "rx = r.join(order_items_df,\"order_id\",\"inner\")\n",
    "top = rx.groupBy(\"customer_city\").agg(sum(\"total_value\").alias(\"total_revenu\")).orderBy(col(\"total_revenu\").desc()).limit(5)\n",
    "top.show()"
   ]
  },
  {
   "cell_type": "code",
   "execution_count": 26,
   "id": "8e0ac432-aa6d-4dd7-9c24-c88d1ca4f2a2",
   "metadata": {
    "tags": []
   },
   "outputs": [
    {
     "name": "stderr",
     "output_type": "stream",
     "text": [
      "25/07/20 13:10:01 WARN SparkStringUtils: Truncated the string representation of a plan since it was too large. This behavior can be adjusted by setting 'spark.sql.debug.maxToStringFields'.\n",
      "[Stage 94:>                                                         (0 + 1) / 1]\r"
     ]
    },
    {
     "name": "stdout",
     "output_type": "stream",
     "text": [
      "+--------------------+--------------------+--------------------+------------------------+-------------+--------------+------------+------------------------+-------------------+----------------------------+-----------------------------+-----------------------------+-------------+--------------------+--------------------+-------------------+------+-------------+-----------+-------------+-------------+--------------+------------------+------------+--------------------+-------------+-----------------+\n",
      "|            order_id|         customer_id|  customer_unique_id|customer_zip_code_prefix|customer_city|customer_state|order_status|order_purchase_timestamp|  order_approved_at|order_delivered_carrier_date|order_delivered_customer_date|order_estimated_delivery_date|order_item_id|          product_id|           seller_id|shipping_limit_date| price|freight_value|total_value|shipping_date|shipping_year|shipping_month|payment_sequential|payment_type|payment_installments|payment_value|installment_value|\n",
      "+--------------------+--------------------+--------------------+------------------------+-------------+--------------+------------+------------------------+-------------------+----------------------------+-----------------------------+-----------------------------+-------------+--------------------+--------------------+-------------------+------+-------------+-----------+-------------+-------------+--------------+------------------+------------+--------------------+-------------+-----------------+\n",
      "|e481f51cbdc54678b...|9ef432eb625129730...|7c396fd4830fd0422...|                    3149|    sao paulo|            SP|   delivered|     2017-10-02 10:56:33|2017-10-02 11:07:15|         2017-10-04 19:55:00|          2017-10-10 21:25:13|          2017-10-18 00:00:00|            1|87285b34884572647...|3504c0cb71d7fa48d...|2017-10-06 11:07:15| 29.99|         8.72|      38.71|   2017-10-06|         2017|            10|                 2|     voucher|                   1|        18.59|            18.59|\n",
      "|e481f51cbdc54678b...|9ef432eb625129730...|7c396fd4830fd0422...|                    3149|    sao paulo|            SP|   delivered|     2017-10-02 10:56:33|2017-10-02 11:07:15|         2017-10-04 19:55:00|          2017-10-10 21:25:13|          2017-10-18 00:00:00|            1|87285b34884572647...|3504c0cb71d7fa48d...|2017-10-06 11:07:15| 29.99|         8.72|      38.71|   2017-10-06|         2017|            10|                 3|     voucher|                   1|         2.00|             2.00|\n",
      "|e481f51cbdc54678b...|9ef432eb625129730...|7c396fd4830fd0422...|                    3149|    sao paulo|            SP|   delivered|     2017-10-02 10:56:33|2017-10-02 11:07:15|         2017-10-04 19:55:00|          2017-10-10 21:25:13|          2017-10-18 00:00:00|            1|87285b34884572647...|3504c0cb71d7fa48d...|2017-10-06 11:07:15| 29.99|         8.72|      38.71|   2017-10-06|         2017|            10|                 1| credit_card|                   1|        18.12|            18.12|\n",
      "|53cdb2fc8bc7dce0b...|b0830fb4747a6c6d2...|af07308b275d755c9...|                   47813|    barreiras|            BA|   delivered|     2018-07-24 20:41:37|2018-07-26 03:24:27|         2018-07-26 14:31:00|          2018-08-07 15:27:45|          2018-08-13 00:00:00|            1|595fac2a385ac33a8...|289cdb325fb7e7f89...|2018-07-30 03:24:27|118.70|        22.76|     141.46|   2018-07-30|         2018|             7|                 1|      boleto|                   1|       141.46|           141.46|\n",
      "|47770eb9100c2d0c4...|41ce2a54c0b03bf34...|3a653a41f6f9fc3d2...|                   75265|   vianopolis|            GO|   delivered|     2018-08-08 08:38:49|2018-08-08 08:55:23|         2018-08-08 13:50:00|          2018-08-17 18:06:29|          2018-09-04 00:00:00|            1|aa4383b373c6aca5d...|4869f7a5dfa277a7d...|2018-08-13 08:55:23|159.90|        19.22|     179.12|   2018-08-13|         2018|             8|                 1| credit_card|                   3|       179.12|            59.71|\n",
      "+--------------------+--------------------+--------------------+------------------------+-------------+--------------+------------+------------------------+-------------------+----------------------------+-----------------------------+-----------------------------+-------------+--------------------+--------------------+-------------------+------+-------------+-----------+-------------+-------------+--------------+------------------+------------+--------------------+-------------+-----------------+\n",
      "only showing top 5 rows\n",
      "\n"
     ]
    },
    {
     "name": "stderr",
     "output_type": "stream",
     "text": [
      "                                                                                \r"
     ]
    }
   ],
   "source": [
    "#Q4.2: Create a complete order summary including customer details, payment info,and items\n",
    "co = customers_df.join(orders_df,\"customer_id\",\"inner\")\n",
    "cooi = r.join(order_items_df,\"order_id\",\"inner\")\n",
    "cooiop = cooi.join(order_payments_df,\"order_id\",\"inner\")\n",
    "cooiop.show(5)\n"
   ]
  },
  {
   "cell_type": "code",
   "execution_count": 27,
   "id": "5a37beb6-df3c-4168-b507-178550e80970",
   "metadata": {
    "tags": []
   },
   "outputs": [
    {
     "name": "stderr",
     "output_type": "stream",
     "text": [
      "[Stage 98:=============================>                            (1 + 1) / 2]\r"
     ]
    },
    {
     "name": "stdout",
     "output_type": "stream",
     "text": [
      "+--------------------+------------------------------+\n",
      "|           seller_id|count(DISTINCT customer_state)|\n",
      "+--------------------+------------------------------+\n",
      "|8e6cc767478edae94...|                            15|\n",
      "|acadd4d36859671cb...|                             6|\n",
      "|b76dba6c951ab00dc...|                            17|\n",
      "|33cbbec1e7e1044aa...|                             7|\n",
      "|7a67c85e85bb2ce85...|                            26|\n",
      "|3d8fa2f5b647373c8...|                            10|\n",
      "|d2374cbcbb3ca4ab1...|                            22|\n",
      "|26d8a1c7c75d51304...|                             7|\n",
      "|238fac594e170b59c...|                             7|\n",
      "|f4a04f7be452aa3bb...|                             7|\n",
      "|4200ddf1967c5e41e...|                             8|\n",
      "|a254c682cc01e119f...|                             6|\n",
      "|bf3c6d2a28b2b5501...|                            14|\n",
      "|8b28d096634035667...|                            18|\n",
      "|e59aa562b9f8076dd...|                            15|\n",
      "|c7a0a13cbcf29d5ce...|                             6|\n",
      "|002100f778ceb8431...|                            13|\n",
      "|c8b0e2b0a7095e5d8...|                            13|\n",
      "|530ec6109d11eaaf8...|                            13|\n",
      "|d66c11a9572221d92...|                             7|\n",
      "+--------------------+------------------------------+\n",
      "only showing top 20 rows\n",
      "\n"
     ]
    },
    {
     "name": "stderr",
     "output_type": "stream",
     "text": [
      "                                                                                \r"
     ]
    }
   ],
   "source": [
    "#Q4.3: Find sellers who sold to customers in more than 5 different states\n",
    "soi = sellers_df.join(order_items_df,\"seller_id\",\"inner\")\n",
    "soio = soi.join(orders_df,\"order_id\",\"inner\")\n",
    "x = soio.join(customers_df,\"customer_id\",\"inner\")\n",
    "y = x.groupBy(\"seller_id\").agg(countDistinct(\"customer_state\"))\n",
    "y = y.filter(col(\"count(DISTINCT customer_state)\")>5)\n",
    "y.show()"
   ]
  },
  {
   "cell_type": "markdown",
   "id": "1d943dd1-990a-4b51-82e6-a3e5d4aee2a5",
   "metadata": {
    "tags": []
   },
   "source": [
    "## Payment Analysis"
   ]
  },
  {
   "cell_type": "code",
   "execution_count": 28,
   "id": "11d4d3f3-914b-4365-b45e-a8b85ee1e73d",
   "metadata": {
    "tags": []
   },
   "outputs": [
    {
     "name": "stderr",
     "output_type": "stream",
     "text": [
      "                                                                                \r"
     ]
    },
    {
     "name": "stdout",
     "output_type": "stream",
     "text": [
      "+--------------+------------+-----+------------+\n",
      "|customer_state|payment_type|  fav|row_number()|\n",
      "+--------------+------------+-----+------------+\n",
      "|            AC| credit_card|   61|           1|\n",
      "|            AL| credit_card|  341|           1|\n",
      "|            AM| credit_card|  124|           1|\n",
      "|            AP| credit_card|   47|           1|\n",
      "|            BA| credit_card| 2662|           1|\n",
      "|            CE| credit_card| 1091|           1|\n",
      "|            DF| credit_card| 1700|           1|\n",
      "|            ES| credit_card| 1573|           1|\n",
      "|            GO| credit_card| 1520|           1|\n",
      "|            MA| credit_card|  535|           1|\n",
      "|            MG| credit_card| 9070|           1|\n",
      "|            MS| credit_card|  519|           1|\n",
      "|            MT| credit_card|  659|           1|\n",
      "|            PA| credit_card|  728|           1|\n",
      "|            PB| credit_card|  428|           1|\n",
      "|            PE| credit_card| 1334|           1|\n",
      "|            PI| credit_card|  389|           1|\n",
      "|            PR| credit_card| 3786|           1|\n",
      "|            RJ| credit_card|10288|           1|\n",
      "|            RN| credit_card|  394|           1|\n",
      "+--------------+------------+-----+------------+\n",
      "only showing top 20 rows\n",
      "\n"
     ]
    }
   ],
   "source": [
    "from pyspark.sql import Window\n",
    "#Q5.1: Calculate the most popular payment method by state\n",
    "op = orders_df.join(order_payments_df,\"order_id\",\"inner\")\n",
    "opc = op.join(customers_df,\"customer_id\",\"inner\")\n",
    "z = opc.groupBy(\"customer_state\",\"payment_type\").agg(count(\"payment_type\").alias(\"fav\")).orderBy(col(\"customer_state\"),col(\"payment_type\"))\n",
    "window_spec = Window.partitionBy(\"customer_state\").orderBy(col(\"fav\").desc())\n",
    "z = z.withColumn(\"row_number()\",row_number().over(window_spec))\n",
    "z = z.filter(col(\"row_number()\")==1)\n",
    "z.show()"
   ]
  },
  {
   "cell_type": "code",
   "execution_count": 29,
   "id": "a0eb1a80-3292-4071-ae2b-05e22a86f359",
   "metadata": {
    "tags": []
   },
   "outputs": [
    {
     "name": "stderr",
     "output_type": "stream",
     "text": [
      "                                                                                \r"
     ]
    },
    {
     "name": "stdout",
     "output_type": "stream",
     "text": [
      "+--------------------+----------+------------+\n",
      "|            order_id|count_type|order_status|\n",
      "+--------------------+----------+------------+\n",
      "|f44cb69655f8e4d13...|         2|   delivered|\n",
      "|7a5472f7c8cecc2e1...|         2|   delivered|\n",
      "|cd05a1fc2781f43f5...|         2|   delivered|\n",
      "|8ca5bdac5ebe8f2d6...|         9|   delivered|\n",
      "|54066aeaaf3ac32e7...|         2|   delivered|\n",
      "|251f0a3981c4a8cb8...|         5|   delivered|\n",
      "|3f4f6a378519479cb...|         2|   delivered|\n",
      "|b1ce906877fd32ecc...|         2|   delivered|\n",
      "|eb73628992e7d5099...|         2|   delivered|\n",
      "|818877ced1be365d1...|         2|   delivered|\n",
      "|f6ba6de181266b918...|         2|   delivered|\n",
      "|0fc3e31f16aa4bc4b...|         2|   delivered|\n",
      "|1798a9d3b896e39ea...|         2|   delivered|\n",
      "|d8d126f05b944cb1a...|         2|   delivered|\n",
      "|f1d6313ed30c82ba1...|         4|   delivered|\n",
      "|a856b544fe56eea44...|         2|   delivered|\n",
      "|681c2cfadee843332...|         2|   delivered|\n",
      "|94dccbc39bc2673b3...|         2|   delivered|\n",
      "|f8a8d05d951ce7e35...|        10|  processing|\n",
      "|a46e7e8e02915adec...|         2|   delivered|\n",
      "+--------------------+----------+------------+\n",
      "only showing top 20 rows\n",
      "\n"
     ]
    },
    {
     "name": "stderr",
     "output_type": "stream",
     "text": [
      "[Stage 133:>                                                        (0 + 2) / 2]\r"
     ]
    },
    {
     "name": "stdout",
     "output_type": "stream",
     "text": [
      "success rates orders with multiple payment methods  {97.09557581898008}\n"
     ]
    },
    {
     "name": "stderr",
     "output_type": "stream",
     "text": [
      "                                                                                \r"
     ]
    }
   ],
   "source": [
    "#Q5.2: Find orders with multiple payment methods and their success rates\n",
    "op = orders_df.join(order_payments_df,\"order_id\",\"inner\")\n",
    "u = op.groupBy(\"order_id\").agg(count(\"payment_type\").alias(\"count_type\"))\n",
    "u = u.filter(col(\"count_type\")>1)\n",
    "xu = u.join(orders_df,\"order_id\",\"inner\")\n",
    "xu.select(\"order_id\",\"count_type\",\"order_status\").show()\n",
    "# now time to get success rate\n",
    "a = xu.count()\n",
    "b= xu.filter(col(\"order_status\")== \"delivered\").count()\n",
    "success_ratio = (b/a) * 100\n",
    "print(f\"success rates orders with multiple payment methods \",{success_ratio})\n"
   ]
  },
  {
   "cell_type": "code",
   "execution_count": 30,
   "id": "2c646c7c-fa72-4259-b171-346a6a6b2c77",
   "metadata": {
    "tags": []
   },
   "outputs": [
    {
     "name": "stderr",
     "output_type": "stream",
     "text": [
      "                                                                                \r"
     ]
    },
    {
     "name": "stdout",
     "output_type": "stream",
     "text": [
      "+--------------------+-----------------+----------------------------+-----------+\n",
      "|            order_id|total_order_value|total_installments_for_order|value_range|\n",
      "+--------------------+-----------------+----------------------------+-----------+\n",
      "|1c4a92d82c1b0dec1...|           249.05|                           1|     medium|\n",
      "|28eaf054725f4dd3c...|            45.00|                           2|        low|\n",
      "|78cd965d0bc0388d3...|           189.37|                           1|     medium|\n",
      "|126f2d9c30f82426d...|           155.01|                           1|     medium|\n",
      "|d6d7c431275f0029d...|           161.71|                           1|     medium|\n",
      "|502d7a6ef832644f5...|            80.92|                           6|        low|\n",
      "|a268b656281801419...|           297.64|                           1|     medium|\n",
      "|61fc33807aeed929a...|           396.40|                          10|     medium|\n",
      "|fed4ca34aeb50d89a...|           204.08|                           4|     medium|\n",
      "|8d682b67c7d1f4f55...|           119.45|                           2|     medium|\n",
      "|43ed2e201f59c4d2f...|           185.94|                           1|     medium|\n",
      "|1826d2a2eb6ba6e3e...|           232.83|                           4|     medium|\n",
      "|d17a342bb9f94d40c...|            74.76|                           1|        low|\n",
      "|8dd9758206f8d9c23...|           100.34|                           2|     medium|\n",
      "|f9b9c3c69ef08b6ed...|            58.64|                           3|        low|\n",
      "|a97a2be3f668f7c6d...|           201.43|                           4|     medium|\n",
      "|fdf9e48108cf744c3...|           819.35|                          10|       high|\n",
      "|f19d7e5d1c51bae3d...|            27.15|                           1|        low|\n",
      "|8c8d824536e2e08f1...|           852.49|                           1|       high|\n",
      "|09e90e3936db197d4...|            86.99|                           1|        low|\n",
      "+--------------------+-----------------+----------------------------+-----------+\n",
      "only showing top 20 rows\n",
      "\n"
     ]
    },
    {
     "name": "stderr",
     "output_type": "stream",
     "text": [
      "                                                                                \r"
     ]
    },
    {
     "name": "stdout",
     "output_type": "stream",
     "text": [
      "+-----------+-------------------+---------------------+\n",
      "|value_range|total_inst_in_range|total_orders_in_range|\n",
      "+-----------+-------------------+---------------------+\n",
      "|       high|              26437|                 4296|\n",
      "|     medium|             173242|                47889|\n",
      "|        low|              96744|                47255|\n",
      "+-----------+-------------------+---------------------+\n",
      "\n"
     ]
    },
    {
     "name": "stderr",
     "output_type": "stream",
     "text": [
      "[Stage 151:>                                                        (0 + 2) / 2]\r"
     ]
    },
    {
     "name": "stdout",
     "output_type": "stream",
     "text": [
      "+-----------+---------------------------------+\n",
      "|value_range|avg(total_installments_for_order)|\n",
      "+-----------+---------------------------------+\n",
      "|       high|                6.153864059590316|\n",
      "|     medium|                3.617573973146234|\n",
      "|        low|               2.0472754205904136|\n",
      "+-----------+---------------------------------+\n",
      "\n"
     ]
    },
    {
     "name": "stderr",
     "output_type": "stream",
     "text": [
      "                                                                                \r"
     ]
    }
   ],
   "source": [
    "#Q5.3: Analyze payment installment patterns by order value ranges\n",
    "op = orders_df.join(order_payments_df,\"order_id\",\"inner\")\n",
    "ov = op.groupBy(\"order_id\").agg(sum(\"payment_value\").alias(\"total_order_value\"),sum(\"payment_installments\").alias(\"total_installments_for_order\"))\n",
    "ov = ov.withColumn(\"value_range\",\n",
    "                   when(col(\"total_order_value\") < 100, \"low\")\n",
    "                   .when((col(\"total_order_value\") >= 100) & (col(\"total_order_value\") < 500), \"medium\") \n",
    "                   .when(col(\"total_order_value\") >= 500, \"high\")\n",
    "                   .otherwise(\"other_range\")\n",
    "                  )\n",
    "ov.show()\n",
    "\n",
    "# installments per range and orders n perticular range\n",
    "ipr = ov.groupBy(\"value_range\").agg(sum(\"total_installments_for_order\").alias(\"total_inst_in_range\"),count(\"order_id\").alias(\"total_orders_in_range\"))\n",
    "ipr.show()\n",
    "\n",
    "#average number of installments per order with in the range\n",
    "aio = ov.groupBy(\"value_range\").agg(avg(\"total_installments_for_order\"))\n",
    "aio.show()"
   ]
  },
  {
   "cell_type": "markdown",
   "id": "9e368605-1948-407f-9bba-d8c35dc1ad65",
   "metadata": {},
   "source": [
    "## Geographic Analysis"
   ]
  },
  {
   "cell_type": "code",
   "execution_count": 31,
   "id": "4aded5c8-745e-4283-af80-e628c0648994",
   "metadata": {
    "tags": []
   },
   "outputs": [
    {
     "name": "stderr",
     "output_type": "stream",
     "text": [
      "                                                                                \r"
     ]
    },
    {
     "name": "stdout",
     "output_type": "stream",
     "text": [
      "+--------------------+--------------------+------------------------+--------------------+--------------+--------------------+------------+------------------------+-------------------+----------------------------+-----------------------------+-----------------------------+-------------+\n",
      "|         customer_id|  customer_unique_id|customer_zip_code_prefix|       customer_city|customer_state|            order_id|order_status|order_purchase_timestamp|  order_approved_at|order_delivered_carrier_date|order_delivered_customer_date|order_estimated_delivery_date|delivery_days|\n",
      "+--------------------+--------------------+------------------------+--------------------+--------------+--------------------+------------+------------------------+-------------------+----------------------------+-----------------------------+-----------------------------+-------------+\n",
      "|9ef432eb625129730...|7c396fd4830fd0422...|                    3149|           sao paulo|            SP|e481f51cbdc54678b...|   delivered|     2017-10-02 10:56:33|2017-10-02 11:07:15|         2017-10-04 19:55:00|          2017-10-10 21:25:13|          2017-10-18 00:00:00|            8|\n",
      "|b0830fb4747a6c6d2...|af07308b275d755c9...|                   47813|           barreiras|            BA|53cdb2fc8bc7dce0b...|   delivered|     2018-07-24 20:41:37|2018-07-26 03:24:27|         2018-07-26 14:31:00|          2018-08-07 15:27:45|          2018-08-13 00:00:00|           14|\n",
      "|41ce2a54c0b03bf34...|3a653a41f6f9fc3d2...|                   75265|          vianopolis|            GO|47770eb9100c2d0c4...|   delivered|     2018-08-08 08:38:49|2018-08-08 08:55:23|         2018-08-08 13:50:00|          2018-08-17 18:06:29|          2018-09-04 00:00:00|            9|\n",
      "|f88197465ea7920ad...|7c142cf63193a1473...|                   59296|sao goncalo do am...|            RN|949d5b44dbf5de918...|   delivered|     2017-11-18 19:28:06|2017-11-18 19:45:59|         2017-11-22 13:39:59|          2017-12-02 00:28:42|          2017-12-15 00:00:00|           14|\n",
      "|8ab97904e6daea886...|72632f0f9dd73dfee...|                    9195|         santo andre|            SP|ad21c59c0840e6cb8...|   delivered|     2018-02-13 21:18:39|2018-02-13 22:20:29|         2018-02-14 19:46:34|          2018-02-16 18:17:02|          2018-02-26 00:00:00|            3|\n",
      "|503740e9ca751ccdd...|80bb27c7c16e8f973...|                   86320|        congonhinhas|            PR|a4591c265e18cb1dc...|   delivered|     2017-07-09 21:57:05|2017-07-09 22:10:13|         2017-07-11 14:58:04|          2017-07-26 10:57:55|          2017-08-01 00:00:00|           17|\n",
      "|ed0271e0b7da060a3...|36edbb3fb164b1f16...|                   98900|          santa rosa|            RS|136cce7faa42fdb2c...|    invoiced|     2017-04-11 12:22:08|2017-04-13 13:25:17|                        NULL|                         NULL|          2017-05-09 00:00:00|         NULL|\n",
      "|9bdf08b4b3b52b552...|932afa1e708222e58...|                   26525|           nilopolis|            RJ|6514b8ad8028c9f2c...|   delivered|     2017-05-16 13:10:30|2017-05-16 13:22:11|         2017-05-22 10:07:46|          2017-05-26 12:55:51|          2017-06-07 00:00:00|           10|\n",
      "|f54a9f0e6b351c431...|39382392765b6dc74...|                   99655|        faxinalzinho|            RS|76c6e866289321a7c...|   delivered|     2017-01-23 18:29:09|2017-01-25 02:50:47|         2017-01-26 14:16:31|          2017-02-02 14:08:10|          2017-03-06 00:00:00|           10|\n",
      "|31ad1d1b63eb99624...|299905e3934e9e181...|                   18075|            sorocaba|            SP|e69bfb5eb88e0ed6a...|   delivered|     2017-07-29 11:55:02|2017-07-29 12:05:32|         2017-08-10 19:45:24|          2017-08-16 17:14:30|          2017-08-23 00:00:00|           18|\n",
      "|494dded5b201313c6...|f2a85dec752b8517b...|                   20780|      rio de janeiro|            RJ|e6ce16cb79ec1d90b...|   delivered|     2017-05-16 19:41:10|2017-05-16 19:50:18|         2017-05-18 11:40:40|          2017-05-29 11:18:31|          2017-06-07 00:00:00|           13|\n",
      "|7711cf624183d843a...|782987b81c92239d9...|                    4278|           sao paulo|            SP|34513ce0c4fab462a...|   delivered|     2017-07-13 19:58:11|2017-07-13 20:10:08|         2017-07-14 18:43:29|          2017-07-19 14:04:48|          2017-08-08 00:00:00|            6|\n",
      "|d3e3b74c766bc6214...|e97109680b052ee85...|                   35400|          ouro preto|            MG|82566a660a982b15f...|   delivered|     2018-06-07 10:06:19|2018-06-09 03:13:12|         2018-06-11 13:29:00|          2018-06-19 12:05:52|          2018-07-18 00:00:00|           12|\n",
      "|19402a48fe860416a...|e2dfa3127fedbbca9...|                    4812|           sao paulo|            SP|5ff96c15d0b717ac6...|   delivered|     2018-07-25 17:44:10|2018-07-25 17:55:14|         2018-07-26 13:16:00|          2018-07-30 15:52:25|          2018-08-08 00:00:00|            5|\n",
      "|3df704f53d3f1d481...|04cf8185c71090d28...|                    5271|           sao paulo|            SP|432aaf21d85167c2c...|   delivered|     2018-03-01 14:14:28|2018-03-01 15:10:47|         2018-03-02 21:09:20|          2018-03-12 23:36:26|          2018-03-21 00:00:00|           11|\n",
      "|3b6828a50ffe54694...|ccafc1c3f27041052...|                   74820|             goiania|            GO|dcb36b511fcac050b...|   delivered|     2018-06-07 19:03:12|2018-06-12 23:31:02|         2018-06-11 14:54:00|          2018-06-21 15:34:32|          2018-07-04 00:00:00|           14|\n",
      "|738b086814c6fcc74...|6e26bbeaa107ec341...|                   21381|      rio de janeiro|            RJ|403b97836b0c04a62...|   delivered|     2018-01-02 19:00:43|2018-01-02 19:09:04|         2018-01-03 18:19:09|          2018-01-20 01:38:59|          2018-02-06 00:00:00|           18|\n",
      "|3187789bec9909876...|6087cfc70fd833cf2...|                   88780|            imbituba|            SC|116f0b09343b49556...|   delivered|     2017-12-26 23:41:31|2017-12-26 23:50:22|         2017-12-28 18:33:05|          2018-01-08 22:36:36|          2018-01-29 00:00:00|           13|\n",
      "|059f7fc5719c7da6c...|d0ff1a7468fcc46b8...|                   13186|         hortolandia|            SP|85ce859fd6dc634de...|   delivered|     2017-11-21 00:03:41|2017-11-21 00:14:22|         2017-11-23 21:32:26|          2017-11-27 18:28:00|          2017-12-11 00:00:00|            6|\n",
      "|7f8c8b9c2ae27bf33...|634f09f6075fe9032...|                   44024|    feira de santana|            BA|83018ec114eee8641...|   delivered|     2017-10-26 15:54:26|2017-10-26 16:08:14|         2017-10-26 21:46:53|          2017-11-08 22:22:00|          2017-11-23 00:00:00|           13|\n",
      "+--------------------+--------------------+------------------------+--------------------+--------------+--------------------+------------+------------------------+-------------------+----------------------------+-----------------------------+-----------------------------+-------------+\n",
      "only showing top 20 rows\n",
      "\n"
     ]
    },
    {
     "name": "stderr",
     "output_type": "stream",
     "text": [
      "[Stage 160:============================>                            (1 + 1) / 2]\r"
     ]
    },
    {
     "name": "stdout",
     "output_type": "stream",
     "text": [
      "+--------------+---------------------+\n",
      "|customer_state|average_delivery_days|\n",
      "+--------------+---------------------+\n",
      "|            MS|   15.544935805991441|\n",
      "|            CE|   21.200156372165754|\n",
      "|            MG|   11.946543372963452|\n",
      "|            DF|   12.899038461538462|\n",
      "|            RO|    19.28395061728395|\n",
      "|            AM|   26.358620689655172|\n",
      "|            MT|   18.003386004514674|\n",
      "|            SP|    8.700530929744414|\n",
      "|            PB|    20.38878143133462|\n",
      "|            BA|   19.278562653562652|\n",
      "|            SE|    21.46268656716418|\n",
      "|            RJ|   15.237675058690197|\n",
      "|            AC|                 21.0|\n",
      "|            PR|   11.938045906967297|\n",
      "|            AP|    27.17910447761194|\n",
      "|            RR|   29.341463414634145|\n",
      "|            TO|   17.598540145985403|\n",
      "|            ES|   15.723809523809523|\n",
      "|            AL|    24.50125944584383|\n",
      "|            RN|   19.223628691983123|\n",
      "+--------------+---------------------+\n",
      "only showing top 20 rows\n",
      "\n"
     ]
    },
    {
     "name": "stderr",
     "output_type": "stream",
     "text": [
      "                                                                                \r"
     ]
    }
   ],
   "source": [
    "from pyspark.sql.functions import col, datediff, avg\n",
    "#Q6.1: Calculate the average delivery time by state\n",
    "oc = customers_df.join(orders_df,\"customer_id\",\"inner\")\n",
    "oc = oc.withColumn(\"delivery_days\",datediff(col(\"order_delivered_customer_date\"),col(\"order_purchase_timestamp\")))\n",
    "oc.show()\n",
    "avg_days = oc.groupBy(\"customer_state\").agg(avg(\"delivery_days\").alias(\"average_delivery_days\"))\n",
    "avg_days.show()"
   ]
  },
  {
   "cell_type": "code",
   "execution_count": 45,
   "id": "cb017ba3-480d-48bc-922b-6ff558ee6480",
   "metadata": {},
   "outputs": [
    {
     "name": "stderr",
     "output_type": "stream",
     "text": [
      "[Stage 207:>                                                        (0 + 1) / 1]\r"
     ]
    },
    {
     "name": "stdout",
     "output_type": "stream",
     "text": [
      "+--------------------+--------------------+--------------------+-------------------+-------------------+-------------------+-------------------+------------------+\n",
      "|            order_id|           seller_id|         customer_id|         seller_lat|         seller_lng|       customer_lat|       customer_lng|       distance_km|\n",
      "+--------------------+--------------------+--------------------+-------------------+-------------------+-------------------+-------------------+------------------+\n",
      "|e481f51cbdc54678b...|3504c0cb71d7fa48d...|9ef432eb625129730...|-23.680862316249442|  -46.4443108384268|-23.577621867663854|-46.587054702933266|18.526869053443914|\n",
      "|53cdb2fc8bc7dce0b...|289cdb325fb7e7f89...|b0830fb4747a6c6d2...|-19.807884545156714| -43.98081789877275|-12.186877292980054|-44.540231823101585| 849.5204699192725|\n",
      "|47770eb9100c2d0c4...|4869f7a5dfa277a7d...|41ce2a54c0b03bf34...| -21.36347334469748|-48.229587976936884|-16.745149541882597| -48.51478334802312|  514.407596192531|\n",
      "|949d5b44dbf5de918...|66922902710d126a0...|f88197465ea7920ad...|-19.836870783034684|-43.923240859443304|  -5.77400159023228| -35.27097556201267| 1822.132330873575|\n",
      "|ad21c59c0840e6cb8...|2c9e548be18521d1c...|8ab97904e6daea886...| -23.54152520517942| -46.26214782215388|-23.676257121129435| -46.51458048555034|29.765008267895624|\n",
      "|a4591c265e18cb1dc...|8581055ce74af1dab...|503740e9ca751ccdd...|-23.469086979465832| -46.51564874964788|-23.553600742564264|-50.549811899062306| 411.4317398821935|\n",
      "|136cce7faa42fdb2c...|dc8798cbf453b7e0f...|ed0271e0b7da060a3...|-23.541382752523017|-46.711850216922876|-27.866212557327575| -54.47041081818247|  913.712054195123|\n",
      "|6514b8ad8028c9f2c...|16090f2ca825584b5...|9bdf08b4b3b52b552...|  -23.1146608724196| -46.55304457385195|-22.805674120989373| -43.42305940993564| 322.2954602332227|\n",
      "|76c6e866289321a7c...|63b9ae557efed31d1...|f54a9f0e6b351c431...| -21.58455784193843| -46.94279323549639|-27.421768635363264| -52.67502180601173|  870.147679978351|\n",
      "|e69bfb5eb88e0ed6a...|7c67e1448b00f6e96...|31ad1d1b63eb99624...| -23.48613765536295|-46.367107483410265|-23.474638753996043| -47.46722002132995|112.20484734342477|\n",
      "|e6ce16cb79ec1d90b...|001cca7ae9ae17fb1...|494dded5b201313c6...| -20.27922391896834| -40.41151357498256|-22.897213252530268|-43.273352798307315|415.06020125330775|\n",
      "|e6ce16cb79ec1d90b...|001cca7ae9ae17fb1...|494dded5b201313c6...| -20.27922391896834| -40.41151357498256|-22.897213252530268|-43.273352798307315|415.06020125330775|\n",
      "|34513ce0c4fab462a...|87142160b41353c4e...|7711cf624183d843a...| -30.00830163357755|-51.201404755492455|-23.601707094799103|-46.609655861070024| 845.4337256583132|\n",
      "|82566a660a982b15f...|094ced053e257ae8c...|d3e3b74c766bc6214...|-21.191873142868733| -47.76613569578809|  -20.3904055807862| -43.50581623071354| 451.7371128167294|\n",
      "|5ff96c15d0b717ac6...|1900267e848ceeba8...|19402a48fe860416a...|-21.757225105309477| -48.82954113566027|-23.713669098839876| -46.68752953722406|309.15238821899067|\n",
      "|432aaf21d85167c2c...|0bae85eb84b9fb3bd...|3df704f53d3f1d481...| -26.91153727464584|-48.656659023416815|-23.429663309814774|-46.794312886806416|430.12295944101874|\n",
      "|dcb36b511fcac050b...|89a51f50b8095ea78...|3b6828a50ffe54694...|  -15.8369274464868|  -48.0394269535645|-16.706658492804785| -49.24882030538302| 161.2977559213056|\n",
      "|403b97836b0c04a62...|c4af86330efa7a262...|738b086814c6fcc74...|-23.482110414796573| -46.13885763575093|-22.879050943745106| -43.31422748319455| 296.4064454176919|\n",
      "|116f0b09343b49556...|ea8482cd71df3c196...|3187789bec9909876...|-23.625459345815884|-46.611822010033535|-28.232438311255258| -48.68022343405554| 552.4195094076705|\n",
      "|85ce859fd6dc634de...|d2374cbcbb3ca4ab1...|059f7fc5719c7da6c...|-21.757225105309477| -48.82954113566027| -22.88986623250126| -47.19728897100582|209.87885628003335|\n",
      "+--------------------+--------------------+--------------------+-------------------+-------------------+-------------------+-------------------+------------------+\n",
      "only showing top 20 rows\n",
      "\n"
     ]
    },
    {
     "name": "stderr",
     "output_type": "stream",
     "text": [
      "                                                                                \r"
     ]
    }
   ],
   "source": [
    "#Q6.2: Find the distance between seller and customer locations (using lat/lng)\n",
    "\n",
    "# Step 1: Pre-process geolocation_df to get average lat/lng for each zip code prefix\n",
    "# This handles cases where a zip code might have multiple lat/lng entries\n",
    "avg_geo = geolocation_df.groupBy(\"geolocation_zip_code_prefix\").agg(avg(\"geolocation_lat\").alias(\"avg_lat\"),avg(\"geolocation_lng\").alias(\"avg_lng\"))\n",
    "\n",
    "# Step 2: Join sellers_df with the processed geolocation data\n",
    "sg = sellers_df.join(avg_geo,col(\"geolocation_zip_code_prefix\") == col(\"seller_zip_code_prefix\"),\"inner\").select(\n",
    "    col(\"seller_id\"),\n",
    "    col(\"seller_zip_code_prefix\"),\n",
    "    col(\"avg_lat\").alias(\"seller_lat\"),\n",
    "    col(\"avg_lng\").alias(\"seller_lng\")\n",
    ")\n",
    "\n",
    "# Step 3: Join customers_df with the processed geolocation data\n",
    "cg = customers_df.join(avg_geo,col(\"geolocation_zip_code_prefix\") == col(\"customer_zip_code_prefix\"),\"inner\").select(\n",
    "    col(\"customer_id\"),\n",
    "    col(\"customer_zip_code_prefix\"),\n",
    "    col(\"avg_lat\").alias(\"customer_lat\"),\n",
    "    col(\"avg_lng\").alias(\"customer_lng\")\n",
    "    \n",
    ")\n",
    "\n",
    "# Step 4: Combine orders with order items, then link seller and customer geolocations\n",
    "combined_df = orders_df.join(order_items_df, \"order_id\", \"inner\") \\\n",
    "                       .join(sg, \"seller_id\", \"inner\") \\\n",
    "                       .join(cg, \"customer_id\", \"inner\")\n",
    "\n",
    "#combined_df.show() shows some null values\n",
    "\n",
    "# Filter out rows with null coordinates if any were missed in joins\n",
    "combined_df = combined_df.filter(\n",
    "    col(\"seller_lat\").isNotNull() & col(\"seller_lng\").isNotNull() &\n",
    "    col(\"customer_lat\").isNotNull() & col(\"customer_lng\").isNotNull()\n",
    ")\n",
    "\n",
    "# Convert degrees to radians\n",
    "combined_df = combined_df.withColumn(\"seller_lat_rad\", radians(col(\"seller_lat\"))) \\\n",
    "                         .withColumn(\"seller_lon_rad\", radians(col(\"seller_lng\"))) \\\n",
    "                         .withColumn(\"customer_lat_rad\", radians(col(\"customer_lat\"))) \\\n",
    "                         .withColumn(\"customer_lon_rad\", radians(col(\"customer_lng\")))\n",
    "\n",
    "# Calculate differences\n",
    "combined_df = combined_df.withColumn(\"dlat\", col(\"customer_lat_rad\") - col(\"seller_lat_rad\")) \\\n",
    "                         .withColumn(\"dlon\", col(\"customer_lon_rad\") - col(\"seller_lon_rad\"))\n",
    "\n",
    "# Apply Haversine formula parts\n",
    "# 'a' part of Haversine\n",
    "combined_df = combined_df.withColumn(\"a\",\n",
    "                                     sin(col(\"dlat\") / 2)**2 + \\\n",
    "                                     cos(col(\"seller_lat_rad\")) * cos(col(\"customer_lat_rad\")) * \\\n",
    "                                     sin(col(\"dlon\") / 2)**2\n",
    "                                    )\n",
    "\n",
    "# 'c' part of Haversine (angular distance in radians)\n",
    "combined_df = combined_df.withColumn(\"c\", 2 * atan2(sqrt(col(\"a\")), sqrt(lit(1) - col(\"a\"))))\n",
    "\n",
    "# Earth's radius in kilometers (approximate)\n",
    "R = 6371\n",
    "\n",
    "# Final distance in kilometers\n",
    "final_df = combined_df.withColumn(\"distance_km\", lit(R) * col(\"c\"))\n",
    "\n",
    "# Show relevant columns (order_id, seller_id, customer_id, and the calculated distance)\n",
    "final_df.select(\n",
    "    \"order_id\",\n",
    "    \"seller_id\",\n",
    "    \"customer_id\",\n",
    "    \"seller_lat\",\n",
    "    \"seller_lng\",\n",
    "    \"customer_lat\",\n",
    "    \"customer_lng\",\n",
    "    \"distance_km\"\n",
    ").show()"
   ]
  },
  {
   "cell_type": "code",
   "execution_count": 49,
   "id": "3e54b912-b226-47e7-baf2-0fb88682aca5",
   "metadata": {
    "tags": []
   },
   "outputs": [
    {
     "name": "stderr",
     "output_type": "stream",
     "text": [
      "                                                                                \r"
     ]
    },
    {
     "name": "stdout",
     "output_type": "stream",
     "text": [
      "+------------+--------------+----------------+\n",
      "|seller_state|customer_state|number_of_orders|\n",
      "+------------+--------------+----------------+\n",
      "|          PR|            RO|              18|\n",
      "|          MA|            SE|               6|\n",
      "|          RS|            AL|              10|\n",
      "|          SE|            PR|               2|\n",
      "|          ES|            PE|               6|\n",
      "|          MA|            RJ|              42|\n",
      "|          MA|            ES|              13|\n",
      "|          SP|            MG|            8703|\n",
      "|          MT|            PE|               6|\n",
      "|          PE|            DF|              16|\n",
      "|          RJ|            PR|             234|\n",
      "|          SC|            SP|            1506|\n",
      "|          SP|            TO|             229|\n",
      "|          PR|            AL|              46|\n",
      "|          MG|            BA|             430|\n",
      "|          MG|            MG|            1709|\n",
      "|          RJ|            CE|              59|\n",
      "|          MT|            SP|              34|\n",
      "|          MA|            MA|              15|\n",
      "|          ES|            DF|               1|\n",
      "+------------+--------------+----------------+\n",
      "only showing top 20 rows\n",
      "\n"
     ]
    },
    {
     "name": "stderr",
     "output_type": "stream",
     "text": [
      "[Stage 227:======================================>                  (2 + 1) / 3]\r"
     ]
    },
    {
     "name": "stdout",
     "output_type": "stream",
     "text": [
      "+------------+--------------+----------------+\n",
      "|seller_state|customer_state|number_of_orders|\n",
      "+------------+--------------+----------------+\n",
      "|          SP|            SP|           36192|\n",
      "+------------+--------------+----------------+\n",
      "\n"
     ]
    },
    {
     "name": "stderr",
     "output_type": "stream",
     "text": [
      "                                                                                \r"
     ]
    }
   ],
   "source": [
    "#Q6.3: Identify the most active shipping routes (seller_state -> customer_state)\n",
    "combine_df = sellers_df.join(order_items_df,\"seller_id\",\"inner\") \\\n",
    "             .join(orders_df,\"order_id\",\"inner\") \\\n",
    "            .join(customers_df,\"customer_id\",\"inner\")\n",
    "\n",
    "# Group by seller_state and customer_state and count the occurrences\n",
    "route_counts = combine_df.groupBy(\"seller_state\", \"customer_state\").agg(\n",
    "    count(\"order_id\").alias(\"number_of_orders\")\n",
    ")\n",
    "route_counts.show()\n",
    "\n",
    "most_active = route_counts.orderBy(col(\"number_of_orders\").desc()).limit(1)\n",
    "most_active.show()\n"
   ]
  },
  {
   "cell_type": "code",
   "execution_count": 50,
   "id": "b330258a-8a8c-448e-b6b5-0f10887580d0",
   "metadata": {
    "tags": []
   },
   "outputs": [],
   "source": [
    "spark.stop()"
   ]
  },
  {
   "cell_type": "code",
   "execution_count": null,
   "id": "c5d592f4-caa7-4d89-84ed-a71eb4e4fd93",
   "metadata": {},
   "outputs": [],
   "source": []
  }
 ],
 "metadata": {
  "kernelspec": {
   "display_name": "PySpark",
   "language": "python",
   "name": "pyspark"
  },
  "language_info": {
   "codemirror_mode": {
    "name": "ipython",
    "version": 3
   },
   "file_extension": ".py",
   "mimetype": "text/x-python",
   "name": "python",
   "nbconvert_exporter": "python",
   "pygments_lexer": "ipython3",
   "version": "3.11.8"
  }
 },
 "nbformat": 4,
 "nbformat_minor": 5
}